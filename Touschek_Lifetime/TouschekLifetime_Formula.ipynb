{
 "cells": [
  {
   "cell_type": "markdown",
   "metadata": {},
   "source": [
    "### Touschek Lifetime Formula\n",
    "$\\frac{1}{\\tau} = \\frac{r_e^2 c q}{8 \\pi e \\gamma^3 \\sigma_s} \\frac{1}{C} \\oint \\frac{F \\left(\\left[\\frac{\\delta_{acc}}{\\gamma \\sigma_x'(s)}\\right]^2 \\right)}{\\sigma_x(s) \\sigma_y(s) \\sigma_x'(s) \\delta_{acc}^2(s)}$ ds"
   ]
  },
  {
   "cell_type": "markdown",
   "metadata": {},
   "source": [
    "The above formula is used to calculate the Touschek Lifetime in a dual energy storage ring. We use the above formula for each ring and finally compare our results with ELEGANT simulation."
   ]
  }
 ],
 "metadata": {
  "kernelspec": {
   "display_name": "Python 3",
   "language": "python",
   "name": "python3"
  },
  "language_info": {
   "codemirror_mode": {
    "name": "ipython",
    "version": 3
   },
   "file_extension": ".py",
   "mimetype": "text/x-python",
   "name": "python",
   "nbconvert_exporter": "python",
   "pygments_lexer": "ipython3",
   "version": "3.8.3"
  }
 },
 "nbformat": 4,
 "nbformat_minor": 4
}
