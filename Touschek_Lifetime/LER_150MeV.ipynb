{
 "cells": [
  {
   "cell_type": "code",
   "execution_count": 1,
   "metadata": {},
   "outputs": [],
   "source": [
    "import pandas as pd\n",
    "import numpy as np"
   ]
  },
  {
   "cell_type": "code",
   "execution_count": 2,
   "metadata": {},
   "outputs": [
    {
     "data": {
      "text/plain": [
       "293.5420743639922"
      ]
     },
     "execution_count": 2,
     "metadata": {},
     "output_type": "execute_result"
    }
   ],
   "source": [
    "r_e = 2.817e-15\n",
    "c = 3e8\n",
    "n = 6.9e10\n",
    "e = 1.6e-19\n",
    "q=n*e\n",
    "E_e = 150\n",
    "mc2 = 0.511\n",
    "gamma = E_e/mc2\n",
    "pi = 3.1416\n",
    "C = 171.7\n",
    "sigma_s = 0.025\n",
    "gamma"
   ]
  },
  {
   "cell_type": "code",
   "execution_count": 3,
   "metadata": {},
   "outputs": [
    {
     "data": {
      "text/plain": [
       "6.019796132036648e-20"
      ]
     },
     "execution_count": 3,
     "metadata": {},
     "output_type": "execute_result"
    }
   ],
   "source": [
    "A = r_e*r_e*c*q/(8*pi*e*gamma*gamma*gamma*sigma_s*C)\n",
    "A"
   ]
  },
  {
   "cell_type": "code",
   "execution_count": 4,
   "metadata": {},
   "outputs": [
    {
     "data": {
      "text/html": [
       "<div>\n",
       "<style scoped>\n",
       "    .dataframe tbody tr th:only-of-type {\n",
       "        vertical-align: middle;\n",
       "    }\n",
       "\n",
       "    .dataframe tbody tr th {\n",
       "        vertical-align: top;\n",
       "    }\n",
       "\n",
       "    .dataframe thead th {\n",
       "        text-align: right;\n",
       "    }\n",
       "</style>\n",
       "<table border=\"1\" class=\"dataframe\">\n",
       "  <thead>\n",
       "    <tr style=\"text-align: right;\">\n",
       "      <th></th>\n",
       "      <th>s</th>\n",
       "    </tr>\n",
       "  </thead>\n",
       "  <tbody>\n",
       "    <tr>\n",
       "      <th>0</th>\n",
       "      <td>1.40</td>\n",
       "    </tr>\n",
       "    <tr>\n",
       "      <th>1</th>\n",
       "      <td>0.25</td>\n",
       "    </tr>\n",
       "    <tr>\n",
       "      <th>2</th>\n",
       "      <td>2.90</td>\n",
       "    </tr>\n",
       "    <tr>\n",
       "      <th>3</th>\n",
       "      <td>0.25</td>\n",
       "    </tr>\n",
       "    <tr>\n",
       "      <th>4</th>\n",
       "      <td>2.90</td>\n",
       "    </tr>\n",
       "    <tr>\n",
       "      <th>...</th>\n",
       "      <td>...</td>\n",
       "    </tr>\n",
       "    <tr>\n",
       "      <th>158</th>\n",
       "      <td>2.90</td>\n",
       "    </tr>\n",
       "    <tr>\n",
       "      <th>159</th>\n",
       "      <td>0.25</td>\n",
       "    </tr>\n",
       "    <tr>\n",
       "      <th>160</th>\n",
       "      <td>2.90</td>\n",
       "    </tr>\n",
       "    <tr>\n",
       "      <th>161</th>\n",
       "      <td>0.25</td>\n",
       "    </tr>\n",
       "    <tr>\n",
       "      <th>162</th>\n",
       "      <td>1.40</td>\n",
       "    </tr>\n",
       "  </tbody>\n",
       "</table>\n",
       "<p>163 rows × 1 columns</p>\n",
       "</div>"
      ],
      "text/plain": [
       "        s\n",
       "0    1.40\n",
       "1    0.25\n",
       "2    2.90\n",
       "3    0.25\n",
       "4    2.90\n",
       "..    ...\n",
       "158  2.90\n",
       "159  0.25\n",
       "160  2.90\n",
       "161  0.25\n",
       "162  1.40\n",
       "\n",
       "[163 rows x 1 columns]"
      ]
     },
     "execution_count": 4,
     "metadata": {},
     "output_type": "execute_result"
    }
   ],
   "source": [
    "df_ = pd.read_csv(\"tp0.txt\",delim_whitespace=True)\n",
    "s = df_['s']\n",
    "df_ = (s - np.roll(s, 1))[1:]# second row - first row, 1: removes the first row at the end\n",
    "df_.reset_index(drop = True, inplace=True)\n",
    "df_\n",
    "df0 = pd.DataFrame(df_) #Converting into dataframe\n",
    "df0"
   ]
  },
  {
   "cell_type": "code",
   "execution_count": 5,
   "metadata": {},
   "outputs": [],
   "source": [
    "# Load all twiss parameters and momentum aperture\n",
    "df1=pd.read_csv(\"tp1.txt\",sep=\"\\s+\")\n",
    "df2=pd.read_csv(\"tp2.txt\",sep=\"\\s+\")\n",
    "df3=pd.read_csv(\"ma2.txt\",sep=\"\\s+\")"
   ]
  },
  {
   "cell_type": "code",
   "execution_count": 6,
   "metadata": {},
   "outputs": [],
   "source": [
    "# Merge df1 df2 and df3\n",
    "df4 = df0.reset_index().merge(df1.reset_index(), left_index=True, right_index=True, how='left')\n",
    "df5 = df2.reset_index().merge(df3.reset_index(), left_index=True, right_index=True, how='left')\n",
    "df = df4.reset_index().merge(df5.reset_index(), left_index=True, right_index=True, how='left')"
   ]
  },
  {
   "cell_type": "code",
   "execution_count": 7,
   "metadata": {},
   "outputs": [
    {
     "data": {
      "text/html": [
       "<div>\n",
       "<style scoped>\n",
       "    .dataframe tbody tr th:only-of-type {\n",
       "        vertical-align: middle;\n",
       "    }\n",
       "\n",
       "    .dataframe tbody tr th {\n",
       "        vertical-align: top;\n",
       "    }\n",
       "\n",
       "    .dataframe thead th {\n",
       "        text-align: right;\n",
       "    }\n",
       "</style>\n",
       "<table border=\"1\" class=\"dataframe\">\n",
       "  <thead>\n",
       "    <tr style=\"text-align: right;\">\n",
       "      <th></th>\n",
       "      <th>index_x</th>\n",
       "      <th>index_x_x</th>\n",
       "      <th>s</th>\n",
       "      <th>index_y_x</th>\n",
       "      <th>bx</th>\n",
       "      <th>ax</th>\n",
       "      <th>by</th>\n",
       "      <th>ay</th>\n",
       "      <th>sigx1</th>\n",
       "      <th>sigy</th>\n",
       "      <th>gx</th>\n",
       "      <th>index_y</th>\n",
       "      <th>index_x_y</th>\n",
       "      <th>etx</th>\n",
       "      <th>etxp</th>\n",
       "      <th>index_y_y</th>\n",
       "      <th>dPos</th>\n",
       "      <th>dNeg</th>\n",
       "    </tr>\n",
       "  </thead>\n",
       "  <tbody>\n",
       "    <tr>\n",
       "      <th>0</th>\n",
       "      <td>0</td>\n",
       "      <td>0</td>\n",
       "      <td>1.40</td>\n",
       "      <td>0</td>\n",
       "      <td>3.284000</td>\n",
       "      <td>-5.600000e-01</td>\n",
       "      <td>3.284000</td>\n",
       "      <td>-5.600000e-01</td>\n",
       "      <td>0.000007</td>\n",
       "      <td>0.000598</td>\n",
       "      <td>0.400000</td>\n",
       "      <td>0</td>\n",
       "      <td>0</td>\n",
       "      <td>-4.092565e-10</td>\n",
       "      <td>3.024853e-10</td>\n",
       "      <td>0</td>\n",
       "      <td>0.009</td>\n",
       "      <td>-0.007232</td>\n",
       "    </tr>\n",
       "    <tr>\n",
       "      <th>1</th>\n",
       "      <td>1</td>\n",
       "      <td>1</td>\n",
       "      <td>0.25</td>\n",
       "      <td>1</td>\n",
       "      <td>3.842075</td>\n",
       "      <td>-1.724942e+00</td>\n",
       "      <td>3.347376</td>\n",
       "      <td>3.125298e-01</td>\n",
       "      <td>0.000008</td>\n",
       "      <td>0.000604</td>\n",
       "      <td>1.034708</td>\n",
       "      <td>1</td>\n",
       "      <td>1</td>\n",
       "      <td>-3.473679e-10</td>\n",
       "      <td>1.955527e-10</td>\n",
       "      <td>1</td>\n",
       "      <td>0.009</td>\n",
       "      <td>-0.007242</td>\n",
       "    </tr>\n",
       "    <tr>\n",
       "      <th>2</th>\n",
       "      <td>2</td>\n",
       "      <td>2</td>\n",
       "      <td>2.90</td>\n",
       "      <td>2</td>\n",
       "      <td>22.548640</td>\n",
       "      <td>-4.725596e+00</td>\n",
       "      <td>4.292519</td>\n",
       "      <td>-6.384410e-01</td>\n",
       "      <td>0.000049</td>\n",
       "      <td>0.000684</td>\n",
       "      <td>1.034708</td>\n",
       "      <td>2</td>\n",
       "      <td>2</td>\n",
       "      <td>2.197350e-10</td>\n",
       "      <td>1.955527e-10</td>\n",
       "      <td>2</td>\n",
       "      <td>0.009</td>\n",
       "      <td>-0.007099</td>\n",
       "    </tr>\n",
       "    <tr>\n",
       "      <th>3</th>\n",
       "      <td>3</td>\n",
       "      <td>3</td>\n",
       "      <td>0.25</td>\n",
       "      <td>3</td>\n",
       "      <td>23.187460</td>\n",
       "      <td>2.235301e+00</td>\n",
       "      <td>4.983429</td>\n",
       "      <td>-2.194795e+00</td>\n",
       "      <td>0.000050</td>\n",
       "      <td>0.000737</td>\n",
       "      <td>0.258613</td>\n",
       "      <td>3</td>\n",
       "      <td>3</td>\n",
       "      <td>2.597172e-10</td>\n",
       "      <td>1.222789e-10</td>\n",
       "      <td>3</td>\n",
       "      <td>0.009</td>\n",
       "      <td>-0.007231</td>\n",
       "    </tr>\n",
       "    <tr>\n",
       "      <th>4</th>\n",
       "      <td>4</td>\n",
       "      <td>4</td>\n",
       "      <td>2.90</td>\n",
       "      <td>4</td>\n",
       "      <td>12.397650</td>\n",
       "      <td>1.485324e+00</td>\n",
       "      <td>27.530180</td>\n",
       "      <td>-5.579946e+00</td>\n",
       "      <td>0.000027</td>\n",
       "      <td>0.001732</td>\n",
       "      <td>0.258613</td>\n",
       "      <td>4</td>\n",
       "      <td>4</td>\n",
       "      <td>6.143260e-10</td>\n",
       "      <td>1.222789e-10</td>\n",
       "      <td>4</td>\n",
       "      <td>0.009</td>\n",
       "      <td>-0.007231</td>\n",
       "    </tr>\n",
       "    <tr>\n",
       "      <th>...</th>\n",
       "      <td>...</td>\n",
       "      <td>...</td>\n",
       "      <td>...</td>\n",
       "      <td>...</td>\n",
       "      <td>...</td>\n",
       "      <td>...</td>\n",
       "      <td>...</td>\n",
       "      <td>...</td>\n",
       "      <td>...</td>\n",
       "      <td>...</td>\n",
       "      <td>...</td>\n",
       "      <td>...</td>\n",
       "      <td>...</td>\n",
       "      <td>...</td>\n",
       "      <td>...</td>\n",
       "      <td>...</td>\n",
       "      <td>...</td>\n",
       "      <td>...</td>\n",
       "    </tr>\n",
       "    <tr>\n",
       "      <th>158</th>\n",
       "      <td>158</td>\n",
       "      <td>158</td>\n",
       "      <td>2.90</td>\n",
       "      <td>158</td>\n",
       "      <td>23.187460</td>\n",
       "      <td>-2.235301e+00</td>\n",
       "      <td>4.983429</td>\n",
       "      <td>2.194795e+00</td>\n",
       "      <td>0.000050</td>\n",
       "      <td>0.000737</td>\n",
       "      <td>0.258613</td>\n",
       "      <td>158</td>\n",
       "      <td>158</td>\n",
       "      <td>2.597290e-10</td>\n",
       "      <td>-1.222779e-10</td>\n",
       "      <td>158</td>\n",
       "      <td>0.009</td>\n",
       "      <td>-0.006405</td>\n",
       "    </tr>\n",
       "    <tr>\n",
       "      <th>159</th>\n",
       "      <td>159</td>\n",
       "      <td>159</td>\n",
       "      <td>0.25</td>\n",
       "      <td>159</td>\n",
       "      <td>22.548640</td>\n",
       "      <td>4.725596e+00</td>\n",
       "      <td>4.292519</td>\n",
       "      <td>6.384410e-01</td>\n",
       "      <td>0.000049</td>\n",
       "      <td>0.000684</td>\n",
       "      <td>1.034708</td>\n",
       "      <td>159</td>\n",
       "      <td>159</td>\n",
       "      <td>2.197465e-10</td>\n",
       "      <td>-1.955553e-10</td>\n",
       "      <td>159</td>\n",
       "      <td>0.009</td>\n",
       "      <td>-0.006273</td>\n",
       "    </tr>\n",
       "    <tr>\n",
       "      <th>160</th>\n",
       "      <td>160</td>\n",
       "      <td>160</td>\n",
       "      <td>2.90</td>\n",
       "      <td>160</td>\n",
       "      <td>3.842075</td>\n",
       "      <td>1.724942e+00</td>\n",
       "      <td>3.347376</td>\n",
       "      <td>-3.125298e-01</td>\n",
       "      <td>0.000008</td>\n",
       "      <td>0.000604</td>\n",
       "      <td>1.034708</td>\n",
       "      <td>160</td>\n",
       "      <td>160</td>\n",
       "      <td>-3.473637e-10</td>\n",
       "      <td>-1.955553e-10</td>\n",
       "      <td>160</td>\n",
       "      <td>0.009</td>\n",
       "      <td>-0.006273</td>\n",
       "    </tr>\n",
       "    <tr>\n",
       "      <th>161</th>\n",
       "      <td>161</td>\n",
       "      <td>161</td>\n",
       "      <td>0.25</td>\n",
       "      <td>161</td>\n",
       "      <td>3.284000</td>\n",
       "      <td>5.600000e-01</td>\n",
       "      <td>3.284000</td>\n",
       "      <td>5.600000e-01</td>\n",
       "      <td>0.000007</td>\n",
       "      <td>0.000598</td>\n",
       "      <td>0.400000</td>\n",
       "      <td>161</td>\n",
       "      <td>161</td>\n",
       "      <td>-4.092528e-10</td>\n",
       "      <td>-3.024867e-10</td>\n",
       "      <td>161</td>\n",
       "      <td>0.009</td>\n",
       "      <td>-0.006393</td>\n",
       "    </tr>\n",
       "    <tr>\n",
       "      <th>162</th>\n",
       "      <td>162</td>\n",
       "      <td>162</td>\n",
       "      <td>1.40</td>\n",
       "      <td>162</td>\n",
       "      <td>2.500000</td>\n",
       "      <td>-8.506580e-09</td>\n",
       "      <td>2.500000</td>\n",
       "      <td>2.226648e-09</td>\n",
       "      <td>0.000005</td>\n",
       "      <td>0.000522</td>\n",
       "      <td>0.400000</td>\n",
       "      <td>162</td>\n",
       "      <td>162</td>\n",
       "      <td>-8.327342e-10</td>\n",
       "      <td>-3.024867e-10</td>\n",
       "      <td>162</td>\n",
       "      <td>0.009</td>\n",
       "      <td>-0.006393</td>\n",
       "    </tr>\n",
       "  </tbody>\n",
       "</table>\n",
       "<p>163 rows × 18 columns</p>\n",
       "</div>"
      ],
      "text/plain": [
       "     index_x  index_x_x     s  index_y_x         bx            ax         by  \\\n",
       "0          0          0  1.40          0   3.284000 -5.600000e-01   3.284000   \n",
       "1          1          1  0.25          1   3.842075 -1.724942e+00   3.347376   \n",
       "2          2          2  2.90          2  22.548640 -4.725596e+00   4.292519   \n",
       "3          3          3  0.25          3  23.187460  2.235301e+00   4.983429   \n",
       "4          4          4  2.90          4  12.397650  1.485324e+00  27.530180   \n",
       "..       ...        ...   ...        ...        ...           ...        ...   \n",
       "158      158        158  2.90        158  23.187460 -2.235301e+00   4.983429   \n",
       "159      159        159  0.25        159  22.548640  4.725596e+00   4.292519   \n",
       "160      160        160  2.90        160   3.842075  1.724942e+00   3.347376   \n",
       "161      161        161  0.25        161   3.284000  5.600000e-01   3.284000   \n",
       "162      162        162  1.40        162   2.500000 -8.506580e-09   2.500000   \n",
       "\n",
       "               ay     sigx1      sigy        gx  index_y  index_x_y  \\\n",
       "0   -5.600000e-01  0.000007  0.000598  0.400000        0          0   \n",
       "1    3.125298e-01  0.000008  0.000604  1.034708        1          1   \n",
       "2   -6.384410e-01  0.000049  0.000684  1.034708        2          2   \n",
       "3   -2.194795e+00  0.000050  0.000737  0.258613        3          3   \n",
       "4   -5.579946e+00  0.000027  0.001732  0.258613        4          4   \n",
       "..            ...       ...       ...       ...      ...        ...   \n",
       "158  2.194795e+00  0.000050  0.000737  0.258613      158        158   \n",
       "159  6.384410e-01  0.000049  0.000684  1.034708      159        159   \n",
       "160 -3.125298e-01  0.000008  0.000604  1.034708      160        160   \n",
       "161  5.600000e-01  0.000007  0.000598  0.400000      161        161   \n",
       "162  2.226648e-09  0.000005  0.000522  0.400000      162        162   \n",
       "\n",
       "              etx          etxp  index_y_y   dPos      dNeg  \n",
       "0   -4.092565e-10  3.024853e-10          0  0.009 -0.007232  \n",
       "1   -3.473679e-10  1.955527e-10          1  0.009 -0.007242  \n",
       "2    2.197350e-10  1.955527e-10          2  0.009 -0.007099  \n",
       "3    2.597172e-10  1.222789e-10          3  0.009 -0.007231  \n",
       "4    6.143260e-10  1.222789e-10          4  0.009 -0.007231  \n",
       "..            ...           ...        ...    ...       ...  \n",
       "158  2.597290e-10 -1.222779e-10        158  0.009 -0.006405  \n",
       "159  2.197465e-10 -1.955553e-10        159  0.009 -0.006273  \n",
       "160 -3.473637e-10 -1.955553e-10        160  0.009 -0.006273  \n",
       "161 -4.092528e-10 -3.024867e-10        161  0.009 -0.006393  \n",
       "162 -8.327342e-10 -3.024867e-10        162  0.009 -0.006393  \n",
       "\n",
       "[163 rows x 18 columns]"
      ]
     },
     "execution_count": 7,
     "metadata": {},
     "output_type": "execute_result"
    }
   ],
   "source": [
    "df"
   ]
  },
  {
   "cell_type": "code",
   "execution_count": 8,
   "metadata": {},
   "outputs": [],
   "source": [
    "sig_d = 6.92E-04\n",
    "sig_d_sq = sig_d*sig_d"
   ]
  },
  {
   "cell_type": "code",
   "execution_count": 9,
   "metadata": {},
   "outputs": [],
   "source": [
    "for ind, row in df.iterrows():\n",
    "    df.loc[ind,\"etx_del_sq\"] = sig_d_sq * (row[\"etx\"]*row[\"etx\"])\n",
    "for ind, row in df.iterrows():\n",
    "    df.loc[ind,\"sigx\"] = np.sqrt(row[\"sigx1\"] + row[\"etx_del_sq\"])"
   ]
  },
  {
   "cell_type": "code",
   "execution_count": 10,
   "metadata": {},
   "outputs": [],
   "source": [
    "for ind, row in df.iterrows():\n",
    "    df.loc[ind,\"H(s)\"] = (row[\"gx\"]*row[\"etx\"]*row[\"etx\"]) + (2* row[\"ax\"]*row[\"etx\"]*row[\"etxp\"]) + (row[\"bx\"]*row[\"etxp\"]*row[\"etxp\"])"
   ]
  },
  {
   "cell_type": "code",
   "execution_count": 11,
   "metadata": {},
   "outputs": [],
   "source": [
    "ex = 2.17e-06\n",
    "sig_d = 6.92E-04\n",
    "sig_d_sq = sig_d*sig_d\n",
    "ratio = sig_d_sq / ex\n",
    "for ind, row in df.iterrows():\n",
    "    df.loc[ind,\"sig_div\"] = (ex /row[\"sigx\"])*np.sqrt(1 + (row[\"H(s)\"]*ratio))"
   ]
  },
  {
   "cell_type": "code",
   "execution_count": 12,
   "metadata": {},
   "outputs": [],
   "source": [
    "gamma_L = 293.54\n",
    "for ind, row in df.iterrows():\n",
    "    df.loc[ind,\"denom\"] = row[\"sig_div\"]*gamma_L\n",
    "    \n",
    "for ind, row in df.iterrows():\n",
    "    df.loc[ind,\"x\"] = (row[\"dPos\"]/row[\"denom\"])*(row[\"dPos\"]/row[\"denom\"])"
   ]
  },
  {
   "cell_type": "code",
   "execution_count": 13,
   "metadata": {},
   "outputs": [
    {
     "data": {
      "text/plain": [
       "array([4.50763658, 4.35455548, 2.67929835, 2.65399688, 3.23170253,\n",
       "       3.21706078, 2.42321855, 2.4268322 , 3.36310329, 3.42563846,\n",
       "       3.56932075, 3.5970435 , 4.10430817, 4.09782195, 3.85879411,\n",
       "       3.81774092, 3.60725257, 3.61522426, 4.04293913, 4.77878024,\n",
       "       5.20138787, 5.17717721, 4.54910079, 4.12149373, 3.65789134,\n",
       "       3.68520993, 4.08831161, 4.77098923, 5.28415986, 5.28262165,\n",
       "       5.18720516, 5.08593229, 4.76946194, 4.56510768, 4.29850018,\n",
       "       4.30889458, 4.35811471, 4.40702128, 4.54978082, 5.00258156,\n",
       "       5.51710616, 5.51606439, 5.42045697, 5.31897336, 5.00156166,\n",
       "       4.21184405, 3.97250767, 3.98360731, 4.03244578, 4.06414201,\n",
       "       4.22281932, 4.21584454, 4.72460496, 4.72460496, 4.21584454,\n",
       "       4.05415948, 3.654222  , 3.65933701, 4.12257891, 4.59074962,\n",
       "       5.22387758, 5.26621642, 4.84226367, 4.04732575, 3.62011052,\n",
       "       3.60336742, 3.8123453 , 3.85879411, 4.09782195, 4.16964399,\n",
       "       4.05012599, 2.73310271, 2.78604029, 7.14345354, 6.91105986,\n",
       "       2.76904358, 2.3940538 , 1.53758177, 1.41331177, 1.4138754 ,\n",
       "       1.42559151, 1.42559151, 1.4138754 , 1.41331177, 1.53758177,\n",
       "       2.3940538 , 2.76904358, 6.91105986, 7.14345354, 2.78604029,\n",
       "       2.73310271, 4.05012599, 4.16964399, 4.09782195, 3.85879411,\n",
       "       3.91718606, 3.71144424, 3.72860568, 4.15778235, 5.02064163,\n",
       "       5.44431169, 5.41116516, 4.78730567, 4.33634386, 3.8703926 ,\n",
       "       3.86665195, 4.27214457, 4.46779267, 4.97878666, 4.97075104,\n",
       "       4.87568675, 4.77902131, 4.46374305, 4.10544494, 3.86703245,\n",
       "       3.83245286, 3.87937611, 3.92771092, 4.06687422, 4.9924209 ,\n",
       "       5.50635937, 5.50386989, 5.40824975, 5.30649286, 4.98916043,\n",
       "       4.57316438, 4.33744632, 4.34439525, 4.39366507, 4.44260609,\n",
       "       4.58546044, 4.85172504, 5.42562931, 5.42078621, 4.90679139,\n",
       "       4.31302326, 3.90749671, 3.91126225, 4.37970557, 4.71421635,\n",
       "       5.34461317, 5.40338076, 4.96122284, 4.2411217 , 3.81095565,\n",
       "       3.79348643, 4.00504149, 3.85879411, 4.09782195, 4.10430817,\n",
       "       3.5970435 , 3.56932075, 3.42563846, 3.36310329, 2.4268322 ,\n",
       "       2.42321855, 3.21706078, 3.23170253, 2.65399688, 2.67929835,\n",
       "       4.35455548, 4.50763658, 4.77468574])"
      ]
     },
     "execution_count": 13,
     "metadata": {},
     "output_type": "execute_result"
    }
   ],
   "source": [
    "# Integrating F(x) and getting array values of integration for all values of x\n",
    "from scipy.integrate import quad\n",
    "import math\n",
    "from math import log\n",
    "x_values = df[\"x\"].to_numpy()\n",
    "I1 = np.empty(len(x_values))\n",
    "def f(u,x):\n",
    "    return (1/u - 0.5*np.log(1/u) - 1)*np.exp(-x/u)\n",
    "for i, x in enumerate(x_values):\n",
    "    I1[i] = quad(f, 0, 1, args=(x))[0]\n",
    "I1"
   ]
  },
  {
   "cell_type": "code",
   "execution_count": 16,
   "metadata": {},
   "outputs": [],
   "source": [
    "for ind, row in df.iterrows():\n",
    "    df.loc[ind,\"dPos_sq\"] = row[\"dPos\"]*row[\"dPos\"]\n",
    "for ind, row in df.iterrows():\n",
    "    df.loc[ind,\"I2\"] = row[\"sigx\"]*row[\"sigy\"]*row[\"sig_div\"]*row[\"dPos_sq\"]"
   ]
  },
  {
   "cell_type": "code",
   "execution_count": 15,
   "metadata": {},
   "outputs": [],
   "source": [
    "df[\"I1\"] = pd.Series(I1) # Convert numpy array into dataframe column\n"
   ]
  },
  {
   "cell_type": "code",
   "execution_count": 22,
   "metadata": {},
   "outputs": [
    {
     "name": "stdout",
     "output_type": "stream",
     "text": [
      "5129872828524800.0\n"
     ]
    }
   ],
   "source": [
    "for ind, row in df.iterrows():\n",
    "    df.loc[ind,\"I\"] = (row[\"I1\"] / row[\"I2\"])*row[\"s\"]\n",
    "    \n",
    "I_sum = df[\"I\"].sum()\n",
    "print(I_sum)"
   ]
  },
  {
   "cell_type": "code",
   "execution_count": 23,
   "metadata": {},
   "outputs": [
    {
     "data": {
      "text/plain": [
       "0.8995164640286729"
      ]
     },
     "execution_count": 23,
     "metadata": {},
     "output_type": "execute_result"
    }
   ],
   "source": [
    "pos_trate = A*I_sum\n",
    "pos_tlifetime = 1/(pos_trate)\n",
    "pos_lifetime = pos_tlifetime/3600\n",
    "pos_lifetime"
   ]
  },
  {
   "cell_type": "markdown",
   "metadata": {},
   "source": [
    "### Touscheck Rate for delta_negative"
   ]
  },
  {
   "cell_type": "code",
   "execution_count": 24,
   "metadata": {},
   "outputs": [],
   "source": [
    "gamma_L = 293.54\n",
    "for ind, row in df.iterrows():\n",
    "    df.loc[ind,\"denom\"] = row[\"sig_div\"]*gamma_L\n",
    "    \n",
    "for ind, row in df.iterrows():\n",
    "    df.loc[ind,\"y\"] = (row[\"dNeg\"]/row[\"denom\"])*(row[\"dNeg\"]/row[\"denom\"])"
   ]
  },
  {
   "cell_type": "code",
   "execution_count": 25,
   "metadata": {},
   "outputs": [
    {
     "data": {
      "text/plain": [
       "array([4.9364437 , 4.77962021, 3.1159072 , 3.05560792, 3.64616036,\n",
       "       3.63107265, 2.81773049, 2.75493808, 3.70986882, 3.86550375,\n",
       "       4.01134919, 3.97263699, 4.55272814, 4.47850187, 4.23728464,\n",
       "       4.20728643, 3.99447322, 4.03889264, 4.47146776, 5.06385889,\n",
       "       5.48770626, 5.45499257, 4.82188185, 4.71175827, 4.24665758,\n",
       "       4.24298884, 4.65110233, 5.10022144, 5.61522783, 5.60450606,\n",
       "       5.49511094, 5.40720447, 5.07436871, 4.42714736, 4.18688017,\n",
       "       4.19283808, 4.24225605, 4.2907197 , 4.43324455, 4.70629906,\n",
       "       5.26066932, 5.26063043, 5.16523613, 5.06398865, 4.7476106 ,\n",
       "       4.44194778, 4.20158953, 4.21581955, 4.27988398, 4.32871158,\n",
       "       4.45625029, 4.97660005, 5.52369174, 5.55695795, 4.94461009,\n",
       "       4.54221715, 4.13455696, 4.13718956, 4.60664636, 4.83400078,\n",
       "       5.46720256, 5.5006771 , 5.07664717, 4.51614755, 4.08841981,\n",
       "       4.03838811, 4.25591341, 4.34930075, 4.59105493, 4.66360171,\n",
       "       4.56059002, 3.21844524, 3.24764677, 7.64462187, 7.41198666,\n",
       "       3.23429912, 2.85147316, 1.94769352, 1.81055029, 1.81118945,\n",
       "       1.82393964, 1.82393964, 1.81121921, 1.81060675, 1.94125866,\n",
       "       2.84441815, 3.25491753, 7.43416363, 7.64692908, 3.25126258,\n",
       "       3.1949823 , 4.53542252, 4.65969529, 4.59107986, 4.34932667,\n",
       "       4.23895576, 4.02546318, 4.04666888, 4.47145311, 5.04938636,\n",
       "       5.47330879, 5.43231355, 4.79868922, 4.64293669, 4.17375008,\n",
       "       4.16125387, 4.56916595, 5.16630211, 5.68164853, 5.68253075,\n",
       "       5.58677138, 5.48561666, 5.16714101, 4.56640284, 4.32543894,\n",
       "       4.3243333 , 4.37356964, 4.42249298, 4.56945838, 4.85150775,\n",
       "       5.36002487, 5.36235723, 5.26686335, 5.16550191, 4.8487052 ,\n",
       "       4.54417824, 4.30359341, 4.30392962, 4.35314456, 4.40660217,\n",
       "       4.54479235, 5.18982716, 5.70578051, 5.70604197, 5.19058225,\n",
       "       4.64833984, 4.23980757, 4.24119492, 4.71077971, 5.02015388,\n",
       "       5.65460262, 5.68983962, 5.2003312 , 4.67896807, 4.24457732,\n",
       "       4.22103531, 4.43506204, 4.5183535 , 4.73226457, 4.79373506,\n",
       "       4.25240615, 4.22793953, 4.08117009, 4.05154402, 3.08222287,\n",
       "       3.04538364, 3.90177873, 3.87888089, 3.28264081, 3.34822058,\n",
       "       5.06200738, 5.17942733, 5.44882396])"
      ]
     },
     "execution_count": 25,
     "metadata": {},
     "output_type": "execute_result"
    }
   ],
   "source": [
    "from scipy.integrate import quad\n",
    "import math\n",
    "from math import log\n",
    "y_values = df[\"y\"].to_numpy()\n",
    "I1y = np.empty(len(y_values))\n",
    "def f(u,y):\n",
    "    return (1/u - 0.5*np.log(1/u) - 1)*np.exp(-y/u)\n",
    "for i, y in enumerate(y_values):\n",
    "    I1y[i] = quad(f, 0, 1, args=(y))[0]\n",
    "I1y"
   ]
  },
  {
   "cell_type": "code",
   "execution_count": 28,
   "metadata": {},
   "outputs": [],
   "source": [
    "for ind, row in df.iterrows():\n",
    "    df.loc[ind,\"dNeg_sq\"] = row[\"dNeg\"]*row[\"dNeg\"]\n",
    "for ind, row in df.iterrows():\n",
    "    df.loc[ind,\"I2y\"] = row[\"sigx\"]*row[\"sigy\"]*row[\"sig_div\"]*row[\"dNeg_sq\"]"
   ]
  },
  {
   "cell_type": "code",
   "execution_count": 29,
   "metadata": {},
   "outputs": [],
   "source": [
    "df[\"I1y\"] = pd.Series(I1y) # Convert numpy array into dataframe column"
   ]
  },
  {
   "cell_type": "code",
   "execution_count": 30,
   "metadata": {},
   "outputs": [],
   "source": [
    "for ind, row in df.iterrows():\n",
    "    df.loc[ind,\"Iy\"] = (row[\"I1y\"]/ row[\"I2y\"])*row[\"s\"] # total integration = numerator divide by denominator"
   ]
  },
  {
   "cell_type": "code",
   "execution_count": 31,
   "metadata": {},
   "outputs": [
    {
     "name": "stdout",
     "output_type": "stream",
     "text": [
      "8108106166832766.0\n"
     ]
    }
   ],
   "source": [
    "Iy_sum = df[\"Iy\"].sum()\n",
    "print(Iy_sum)"
   ]
  },
  {
   "cell_type": "code",
   "execution_count": 32,
   "metadata": {},
   "outputs": [
    {
     "data": {
      "text/plain": [
       "0.5691100945997972"
      ]
     },
     "execution_count": 32,
     "metadata": {},
     "output_type": "execute_result"
    }
   ],
   "source": [
    "neg_trate = A*Iy_sum\n",
    "neg_tlifetime = 1/(neg_trate)\n",
    "neg_lifetime = neg_tlifetime/3600\n",
    "neg_lifetime"
   ]
  },
  {
   "cell_type": "code",
   "execution_count": 33,
   "metadata": {},
   "outputs": [
    {
     "data": {
      "text/plain": [
       "1.4344188255402455"
      ]
     },
     "execution_count": 33,
     "metadata": {},
     "output_type": "execute_result"
    }
   ],
   "source": [
    "t_rate = (1/(2*pos_lifetime))+(1/(2*neg_lifetime))\n",
    "t_rate"
   ]
  },
  {
   "cell_type": "code",
   "execution_count": 34,
   "metadata": {},
   "outputs": [
    {
     "data": {
      "text/plain": [
       "0.6971464555502956"
      ]
     },
     "execution_count": 34,
     "metadata": {},
     "output_type": "execute_result"
    }
   ],
   "source": [
    "tlifetime = 1/t_rate\n",
    "tlifetime"
   ]
  },
  {
   "cell_type": "code",
   "execution_count": null,
   "metadata": {},
   "outputs": [],
   "source": []
  }
 ],
 "metadata": {
  "kernelspec": {
   "display_name": "Python 3",
   "language": "python",
   "name": "python3"
  },
  "language_info": {
   "codemirror_mode": {
    "name": "ipython",
    "version": 3
   },
   "file_extension": ".py",
   "mimetype": "text/x-python",
   "name": "python",
   "nbconvert_exporter": "python",
   "pygments_lexer": "ipython3",
   "version": "3.8.3"
  }
 },
 "nbformat": 4,
 "nbformat_minor": 4
}
