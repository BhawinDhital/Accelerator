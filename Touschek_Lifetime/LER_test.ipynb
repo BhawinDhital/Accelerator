{
 "cells": [
  {
   "cell_type": "code",
   "execution_count": 75,
   "metadata": {},
   "outputs": [],
   "source": [
    "import pandas as pd\n",
    "import numpy as np"
   ]
  },
  {
   "cell_type": "code",
   "execution_count": 76,
   "metadata": {},
   "outputs": [
    {
     "data": {
      "text/plain": [
       "293.5420743639922"
      ]
     },
     "execution_count": 76,
     "metadata": {},
     "output_type": "execute_result"
    }
   ],
   "source": [
    "r_e = 2.817e-15\n",
    "c = 3e8\n",
    "n = 6.9e10\n",
    "e = 1.6e-19\n",
    "q=n*e\n",
    "E_e = 150\n",
    "mc2 = 0.511\n",
    "gamma = E_e/mc2\n",
    "pi = 3.1416\n",
    "C = 171.7\n",
    "sigma_s = 0.025\n",
    "gamma"
   ]
  },
  {
   "cell_type": "code",
   "execution_count": 77,
   "metadata": {},
   "outputs": [
    {
     "data": {
      "text/plain": [
       "6.019796132036648e-20"
      ]
     },
     "execution_count": 77,
     "metadata": {},
     "output_type": "execute_result"
    }
   ],
   "source": [
    "A = r_e*r_e*c*q/(8*pi*e*gamma*gamma*gamma*sigma_s*C)\n",
    "A"
   ]
  },
  {
   "cell_type": "code",
   "execution_count": 78,
   "metadata": {},
   "outputs": [
    {
     "data": {
      "text/html": [
       "<div>\n",
       "<style scoped>\n",
       "    .dataframe tbody tr th:only-of-type {\n",
       "        vertical-align: middle;\n",
       "    }\n",
       "\n",
       "    .dataframe tbody tr th {\n",
       "        vertical-align: top;\n",
       "    }\n",
       "\n",
       "    .dataframe thead th {\n",
       "        text-align: right;\n",
       "    }\n",
       "</style>\n",
       "<table border=\"1\" class=\"dataframe\">\n",
       "  <thead>\n",
       "    <tr style=\"text-align: right;\">\n",
       "      <th></th>\n",
       "      <th>s</th>\n",
       "    </tr>\n",
       "  </thead>\n",
       "  <tbody>\n",
       "    <tr>\n",
       "      <th>0</th>\n",
       "      <td>1.40</td>\n",
       "    </tr>\n",
       "    <tr>\n",
       "      <th>1</th>\n",
       "      <td>0.25</td>\n",
       "    </tr>\n",
       "    <tr>\n",
       "      <th>2</th>\n",
       "      <td>2.90</td>\n",
       "    </tr>\n",
       "    <tr>\n",
       "      <th>3</th>\n",
       "      <td>0.25</td>\n",
       "    </tr>\n",
       "    <tr>\n",
       "      <th>4</th>\n",
       "      <td>2.90</td>\n",
       "    </tr>\n",
       "    <tr>\n",
       "      <th>...</th>\n",
       "      <td>...</td>\n",
       "    </tr>\n",
       "    <tr>\n",
       "      <th>158</th>\n",
       "      <td>2.90</td>\n",
       "    </tr>\n",
       "    <tr>\n",
       "      <th>159</th>\n",
       "      <td>0.25</td>\n",
       "    </tr>\n",
       "    <tr>\n",
       "      <th>160</th>\n",
       "      <td>2.90</td>\n",
       "    </tr>\n",
       "    <tr>\n",
       "      <th>161</th>\n",
       "      <td>0.25</td>\n",
       "    </tr>\n",
       "    <tr>\n",
       "      <th>162</th>\n",
       "      <td>1.40</td>\n",
       "    </tr>\n",
       "  </tbody>\n",
       "</table>\n",
       "<p>163 rows × 1 columns</p>\n",
       "</div>"
      ],
      "text/plain": [
       "        s\n",
       "0    1.40\n",
       "1    0.25\n",
       "2    2.90\n",
       "3    0.25\n",
       "4    2.90\n",
       "..    ...\n",
       "158  2.90\n",
       "159  0.25\n",
       "160  2.90\n",
       "161  0.25\n",
       "162  1.40\n",
       "\n",
       "[163 rows x 1 columns]"
      ]
     },
     "execution_count": 78,
     "metadata": {},
     "output_type": "execute_result"
    }
   ],
   "source": [
    "df_ = pd.read_csv(\"tp0.txt\",delim_whitespace=True)\n",
    "s = df_['s']\n",
    "df_ = (s - np.roll(s, 1))[1:]# second row - first row, 1: removes the first row at the end\n",
    "df_.reset_index(drop = True, inplace=True)\n",
    "df_\n",
    "df0 = pd.DataFrame(df_) #Converting into dataframe\n",
    "df0"
   ]
  },
  {
   "cell_type": "code",
   "execution_count": 79,
   "metadata": {},
   "outputs": [],
   "source": [
    "# Load all twiss parameters and momentum aperture\n",
    "df1=pd.read_csv(\"tp1.txt\",sep=\"\\s+\")\n",
    "df2=pd.read_csv(\"tp2.txt\",sep=\"\\s+\")\n",
    "df3=pd.read_csv(\"ma2.txt\",sep=\"\\s+\")"
   ]
  },
  {
   "cell_type": "code",
   "execution_count": 80,
   "metadata": {},
   "outputs": [],
   "source": [
    "# Merge df1 df2 and df3\n",
    "df4 = df0.reset_index().merge(df1.reset_index(), left_index=True, right_index=True, how='left')\n",
    "df5 = df2.reset_index().merge(df3.reset_index(), left_index=True, right_index=True, how='left')\n",
    "df = df4.reset_index().merge(df5.reset_index(), left_index=True, right_index=True, how='left')"
   ]
  },
  {
   "cell_type": "code",
   "execution_count": 81,
   "metadata": {},
   "outputs": [
    {
     "data": {
      "text/html": [
       "<div>\n",
       "<style scoped>\n",
       "    .dataframe tbody tr th:only-of-type {\n",
       "        vertical-align: middle;\n",
       "    }\n",
       "\n",
       "    .dataframe tbody tr th {\n",
       "        vertical-align: top;\n",
       "    }\n",
       "\n",
       "    .dataframe thead th {\n",
       "        text-align: right;\n",
       "    }\n",
       "</style>\n",
       "<table border=\"1\" class=\"dataframe\">\n",
       "  <thead>\n",
       "    <tr style=\"text-align: right;\">\n",
       "      <th></th>\n",
       "      <th>index_x</th>\n",
       "      <th>index_x_x</th>\n",
       "      <th>s</th>\n",
       "      <th>index_y_x</th>\n",
       "      <th>bx</th>\n",
       "      <th>ax</th>\n",
       "      <th>by</th>\n",
       "      <th>ay</th>\n",
       "      <th>sigx1</th>\n",
       "      <th>sigy</th>\n",
       "      <th>gx</th>\n",
       "      <th>index_y</th>\n",
       "      <th>index_x_y</th>\n",
       "      <th>etx</th>\n",
       "      <th>etxp</th>\n",
       "      <th>index_y_y</th>\n",
       "      <th>dPos</th>\n",
       "      <th>dNeg</th>\n",
       "    </tr>\n",
       "  </thead>\n",
       "  <tbody>\n",
       "    <tr>\n",
       "      <th>0</th>\n",
       "      <td>0</td>\n",
       "      <td>0</td>\n",
       "      <td>1.40</td>\n",
       "      <td>0</td>\n",
       "      <td>3.284000</td>\n",
       "      <td>-5.600000e-01</td>\n",
       "      <td>3.284000</td>\n",
       "      <td>-5.600000e-01</td>\n",
       "      <td>0.000057</td>\n",
       "      <td>0.001690</td>\n",
       "      <td>0.400000</td>\n",
       "      <td>0</td>\n",
       "      <td>0</td>\n",
       "      <td>-2.134721e-10</td>\n",
       "      <td>-6.527099e-11</td>\n",
       "      <td>0</td>\n",
       "      <td>0.009</td>\n",
       "      <td>-0.007300</td>\n",
       "    </tr>\n",
       "    <tr>\n",
       "      <th>1</th>\n",
       "      <td>1</td>\n",
       "      <td>1</td>\n",
       "      <td>0.25</td>\n",
       "      <td>1</td>\n",
       "      <td>3.842075</td>\n",
       "      <td>-1.724942e+00</td>\n",
       "      <td>3.347376</td>\n",
       "      <td>3.125298e-01</td>\n",
       "      <td>0.000066</td>\n",
       "      <td>0.001707</td>\n",
       "      <td>1.034708</td>\n",
       "      <td>1</td>\n",
       "      <td>1</td>\n",
       "      <td>-2.376159e-10</td>\n",
       "      <td>-1.290226e-10</td>\n",
       "      <td>1</td>\n",
       "      <td>0.009</td>\n",
       "      <td>-0.007211</td>\n",
       "    </tr>\n",
       "    <tr>\n",
       "      <th>2</th>\n",
       "      <td>2</td>\n",
       "      <td>2</td>\n",
       "      <td>2.90</td>\n",
       "      <td>2</td>\n",
       "      <td>22.548640</td>\n",
       "      <td>-4.725596e+00</td>\n",
       "      <td>4.292519</td>\n",
       "      <td>-6.384410e-01</td>\n",
       "      <td>0.000390</td>\n",
       "      <td>0.001932</td>\n",
       "      <td>1.034708</td>\n",
       "      <td>2</td>\n",
       "      <td>2</td>\n",
       "      <td>-6.117814e-10</td>\n",
       "      <td>-1.290226e-10</td>\n",
       "      <td>2</td>\n",
       "      <td>0.009</td>\n",
       "      <td>-0.007211</td>\n",
       "    </tr>\n",
       "    <tr>\n",
       "      <th>3</th>\n",
       "      <td>3</td>\n",
       "      <td>3</td>\n",
       "      <td>0.25</td>\n",
       "      <td>3</td>\n",
       "      <td>23.187460</td>\n",
       "      <td>2.235301e+00</td>\n",
       "      <td>4.983429</td>\n",
       "      <td>-2.194795e+00</td>\n",
       "      <td>0.000401</td>\n",
       "      <td>0.002082</td>\n",
       "      <td>0.258613</td>\n",
       "      <td>3</td>\n",
       "      <td>3</td>\n",
       "      <td>-6.205507e-10</td>\n",
       "      <td>5.931257e-11</td>\n",
       "      <td>3</td>\n",
       "      <td>0.009</td>\n",
       "      <td>-0.007300</td>\n",
       "    </tr>\n",
       "    <tr>\n",
       "      <th>4</th>\n",
       "      <td>4</td>\n",
       "      <td>4</td>\n",
       "      <td>2.90</td>\n",
       "      <td>4</td>\n",
       "      <td>12.397650</td>\n",
       "      <td>1.485324e+00</td>\n",
       "      <td>27.530180</td>\n",
       "      <td>-5.579946e+00</td>\n",
       "      <td>0.000214</td>\n",
       "      <td>0.004894</td>\n",
       "      <td>0.258613</td>\n",
       "      <td>4</td>\n",
       "      <td>4</td>\n",
       "      <td>-4.485443e-10</td>\n",
       "      <td>5.931257e-11</td>\n",
       "      <td>4</td>\n",
       "      <td>0.009</td>\n",
       "      <td>-0.007300</td>\n",
       "    </tr>\n",
       "    <tr>\n",
       "      <th>...</th>\n",
       "      <td>...</td>\n",
       "      <td>...</td>\n",
       "      <td>...</td>\n",
       "      <td>...</td>\n",
       "      <td>...</td>\n",
       "      <td>...</td>\n",
       "      <td>...</td>\n",
       "      <td>...</td>\n",
       "      <td>...</td>\n",
       "      <td>...</td>\n",
       "      <td>...</td>\n",
       "      <td>...</td>\n",
       "      <td>...</td>\n",
       "      <td>...</td>\n",
       "      <td>...</td>\n",
       "      <td>...</td>\n",
       "      <td>...</td>\n",
       "      <td>...</td>\n",
       "    </tr>\n",
       "    <tr>\n",
       "      <th>158</th>\n",
       "      <td>158</td>\n",
       "      <td>158</td>\n",
       "      <td>2.90</td>\n",
       "      <td>158</td>\n",
       "      <td>23.187460</td>\n",
       "      <td>-2.235301e+00</td>\n",
       "      <td>4.983429</td>\n",
       "      <td>2.194795e+00</td>\n",
       "      <td>0.000401</td>\n",
       "      <td>0.002082</td>\n",
       "      <td>0.258613</td>\n",
       "      <td>158</td>\n",
       "      <td>158</td>\n",
       "      <td>-6.205502e-10</td>\n",
       "      <td>-5.931260e-11</td>\n",
       "      <td>158</td>\n",
       "      <td>0.009</td>\n",
       "      <td>-0.006298</td>\n",
       "    </tr>\n",
       "    <tr>\n",
       "      <th>159</th>\n",
       "      <td>159</td>\n",
       "      <td>159</td>\n",
       "      <td>0.25</td>\n",
       "      <td>159</td>\n",
       "      <td>22.548640</td>\n",
       "      <td>4.725596e+00</td>\n",
       "      <td>4.292519</td>\n",
       "      <td>6.384410e-01</td>\n",
       "      <td>0.000390</td>\n",
       "      <td>0.001932</td>\n",
       "      <td>1.034708</td>\n",
       "      <td>159</td>\n",
       "      <td>159</td>\n",
       "      <td>-6.117810e-10</td>\n",
       "      <td>1.290224e-10</td>\n",
       "      <td>159</td>\n",
       "      <td>0.009</td>\n",
       "      <td>-0.006408</td>\n",
       "    </tr>\n",
       "    <tr>\n",
       "      <th>160</th>\n",
       "      <td>160</td>\n",
       "      <td>160</td>\n",
       "      <td>2.90</td>\n",
       "      <td>160</td>\n",
       "      <td>3.842075</td>\n",
       "      <td>1.724942e+00</td>\n",
       "      <td>3.347376</td>\n",
       "      <td>-3.125298e-01</td>\n",
       "      <td>0.000066</td>\n",
       "      <td>0.001707</td>\n",
       "      <td>1.034708</td>\n",
       "      <td>160</td>\n",
       "      <td>160</td>\n",
       "      <td>-2.376160e-10</td>\n",
       "      <td>1.290224e-10</td>\n",
       "      <td>160</td>\n",
       "      <td>0.009</td>\n",
       "      <td>-0.006408</td>\n",
       "    </tr>\n",
       "    <tr>\n",
       "      <th>161</th>\n",
       "      <td>161</td>\n",
       "      <td>161</td>\n",
       "      <td>0.25</td>\n",
       "      <td>161</td>\n",
       "      <td>3.284000</td>\n",
       "      <td>5.600000e-01</td>\n",
       "      <td>3.284000</td>\n",
       "      <td>5.600000e-01</td>\n",
       "      <td>0.000057</td>\n",
       "      <td>0.001690</td>\n",
       "      <td>0.400000</td>\n",
       "      <td>161</td>\n",
       "      <td>161</td>\n",
       "      <td>-2.134722e-10</td>\n",
       "      <td>6.527079e-11</td>\n",
       "      <td>161</td>\n",
       "      <td>0.009</td>\n",
       "      <td>-0.006300</td>\n",
       "    </tr>\n",
       "    <tr>\n",
       "      <th>162</th>\n",
       "      <td>162</td>\n",
       "      <td>162</td>\n",
       "      <td>1.40</td>\n",
       "      <td>162</td>\n",
       "      <td>2.500000</td>\n",
       "      <td>-4.428167e-09</td>\n",
       "      <td>2.500000</td>\n",
       "      <td>4.260637e-09</td>\n",
       "      <td>0.000043</td>\n",
       "      <td>0.001475</td>\n",
       "      <td>0.400000</td>\n",
       "      <td>162</td>\n",
       "      <td>162</td>\n",
       "      <td>-1.220931e-10</td>\n",
       "      <td>6.527079e-11</td>\n",
       "      <td>162</td>\n",
       "      <td>0.009</td>\n",
       "      <td>-0.006300</td>\n",
       "    </tr>\n",
       "  </tbody>\n",
       "</table>\n",
       "<p>163 rows × 18 columns</p>\n",
       "</div>"
      ],
      "text/plain": [
       "     index_x  index_x_x     s  index_y_x         bx            ax         by  \\\n",
       "0          0          0  1.40          0   3.284000 -5.600000e-01   3.284000   \n",
       "1          1          1  0.25          1   3.842075 -1.724942e+00   3.347376   \n",
       "2          2          2  2.90          2  22.548640 -4.725596e+00   4.292519   \n",
       "3          3          3  0.25          3  23.187460  2.235301e+00   4.983429   \n",
       "4          4          4  2.90          4  12.397650  1.485324e+00  27.530180   \n",
       "..       ...        ...   ...        ...        ...           ...        ...   \n",
       "158      158        158  2.90        158  23.187460 -2.235301e+00   4.983429   \n",
       "159      159        159  0.25        159  22.548640  4.725596e+00   4.292519   \n",
       "160      160        160  2.90        160   3.842075  1.724942e+00   3.347376   \n",
       "161      161        161  0.25        161   3.284000  5.600000e-01   3.284000   \n",
       "162      162        162  1.40        162   2.500000 -4.428167e-09   2.500000   \n",
       "\n",
       "               ay     sigx1      sigy        gx  index_y  index_x_y  \\\n",
       "0   -5.600000e-01  0.000057  0.001690  0.400000        0          0   \n",
       "1    3.125298e-01  0.000066  0.001707  1.034708        1          1   \n",
       "2   -6.384410e-01  0.000390  0.001932  1.034708        2          2   \n",
       "3   -2.194795e+00  0.000401  0.002082  0.258613        3          3   \n",
       "4   -5.579946e+00  0.000214  0.004894  0.258613        4          4   \n",
       "..            ...       ...       ...       ...      ...        ...   \n",
       "158  2.194795e+00  0.000401  0.002082  0.258613      158        158   \n",
       "159  6.384410e-01  0.000390  0.001932  1.034708      159        159   \n",
       "160 -3.125298e-01  0.000066  0.001707  1.034708      160        160   \n",
       "161  5.600000e-01  0.000057  0.001690  0.400000      161        161   \n",
       "162  4.260637e-09  0.000043  0.001475  0.400000      162        162   \n",
       "\n",
       "              etx          etxp  index_y_y   dPos      dNeg  \n",
       "0   -2.134721e-10 -6.527099e-11          0  0.009 -0.007300  \n",
       "1   -2.376159e-10 -1.290226e-10          1  0.009 -0.007211  \n",
       "2   -6.117814e-10 -1.290226e-10          2  0.009 -0.007211  \n",
       "3   -6.205507e-10  5.931257e-11          3  0.009 -0.007300  \n",
       "4   -4.485443e-10  5.931257e-11          4  0.009 -0.007300  \n",
       "..            ...           ...        ...    ...       ...  \n",
       "158 -6.205502e-10 -5.931260e-11        158  0.009 -0.006298  \n",
       "159 -6.117810e-10  1.290224e-10        159  0.009 -0.006408  \n",
       "160 -2.376160e-10  1.290224e-10        160  0.009 -0.006408  \n",
       "161 -2.134722e-10  6.527079e-11        161  0.009 -0.006300  \n",
       "162 -1.220931e-10  6.527079e-11        162  0.009 -0.006300  \n",
       "\n",
       "[163 rows x 18 columns]"
      ]
     },
     "execution_count": 81,
     "metadata": {},
     "output_type": "execute_result"
    }
   ],
   "source": [
    "df"
   ]
  },
  {
   "cell_type": "code",
   "execution_count": 82,
   "metadata": {},
   "outputs": [],
   "source": [
    "sig_d = 3.03E-03\n",
    "sig_d_sq = sig_d*sig_d"
   ]
  },
  {
   "cell_type": "code",
   "execution_count": 83,
   "metadata": {},
   "outputs": [],
   "source": [
    "for ind, row in df.iterrows():\n",
    "    df.loc[ind,\"etx_del_sq\"] = sig_d_sq * (row[\"etx\"]*row[\"etx\"])\n",
    "for ind, row in df.iterrows():\n",
    "    df.loc[ind,\"sigx\"] = np.sqrt(row[\"sigx1\"] + row[\"etx_del_sq\"])\n"
   ]
  },
  {
   "cell_type": "code",
   "execution_count": 84,
   "metadata": {
    "scrolled": true
   },
   "outputs": [],
   "source": [
    "for ind, row in df.iterrows():\n",
    "    df.loc[ind,\"H(s)\"] = (row[\"gx\"]*row[\"etx\"]*row[\"etx\"]) + (2* row[\"ax\"]*row[\"etx\"]*row[\"etxp\"]) + (row[\"bx\"]*row[\"etxp\"]*row[\"etxp\"])"
   ]
  },
  {
   "cell_type": "code",
   "execution_count": 85,
   "metadata": {},
   "outputs": [],
   "source": [
    "#ex = 18.20e-06\n",
    "ex = 17.30E-06\n",
    "sig_d = 3.03E-03\n",
    "sig_d_sq = sig_d*sig_d\n",
    "ratio = sig_d_sq / ex\n",
    "for ind, row in df.iterrows():\n",
    "    df.loc[ind,\"sig_div\"] = (ex /row[\"sigx\"])*np.sqrt(1 + (row[\"H(s)\"]*ratio))"
   ]
  },
  {
   "cell_type": "code",
   "execution_count": 86,
   "metadata": {},
   "outputs": [],
   "source": [
    "gamma_L = 293.54\n",
    "for ind, row in df.iterrows():\n",
    "    df.loc[ind,\"denom\"] = row[\"sig_div\"]*gamma_L\n",
    "    \n",
    "for ind, row in df.iterrows():\n",
    "    df.loc[ind,\"x\"] = (row[\"dPos\"]/row[\"denom\"])*(row[\"dPos\"]/row[\"denom\"])"
   ]
  },
  {
   "cell_type": "code",
   "execution_count": 87,
   "metadata": {},
   "outputs": [
    {
     "data": {
      "text/plain": [
       "array([6.55957645, 6.40339276, 4.65372381, 4.62637219, 5.24193814,\n",
       "       5.22653563, 4.37481177, 4.37878204, 5.37978786, 5.4451662 ,\n",
       "       5.59487708, 5.62368709, 6.14720499, 6.14054837, 5.89462177,\n",
       "       5.83629649, 5.61504948, 5.63314361, 6.06660241, 6.92881466,\n",
       "       7.03204281, 6.98025312, 6.46929912, 6.01193221, 5.51474236,\n",
       "       5.50688821, 5.90748635, 6.49524792, 6.9809675 , 6.98755841,\n",
       "       6.89452785, 6.79790041, 6.5018005 , 6.33160224, 6.0794898 ,\n",
       "       6.07948973, 6.13008311, 6.18073708, 6.33160218, 6.84266159,\n",
       "       7.32885553, 7.32561969, 7.23251378, 7.13582549, 6.83942466,\n",
       "       5.9908377 , 5.73920988, 5.73218332, 5.78545539, 5.83319883,\n",
       "       5.98658962, 6.29543462, 6.78081264, 6.78081264, 6.29543462,\n",
       "       5.95133735, 5.41696618, 5.55671798, 6.05681571, 6.5715331 ,\n",
       "       7.27509831, 7.29355235, 6.94740072, 6.06660241, 5.63314361,\n",
       "       5.61504948, 5.83629648, 5.89462177, 6.14054837, 6.21420534,\n",
       "       6.09157718, 4.71175101, 4.76866858, 9.21659723, 8.98360274,\n",
       "       4.7504122 , 4.34272982, 3.3581225 , 3.20550488, 3.20620497,\n",
       "       3.22074105, 3.22074105, 3.20620497, 3.20550488, 3.3581225 ,\n",
       "       4.34272982, 4.7504122 , 8.98360274, 9.21659723, 4.76866858,\n",
       "       4.71175101, 6.09157718, 6.21420534, 6.14054837, 5.89462177,\n",
       "       5.83629648, 5.61504948, 5.63314361, 6.06660241, 7.06827591,\n",
       "       7.41452308, 7.4302634 , 6.73684982, 6.22205397, 5.71829631,\n",
       "       5.73636155, 6.1375042 , 6.37088257, 6.86471582, 6.78081264,\n",
       "       6.6878395 , 6.64193986, 6.29543462, 5.94605757, 5.69449459,\n",
       "       5.66413626, 5.71459756, 5.76512437, 5.91563904, 6.92584835,\n",
       "       7.41214365, 7.40904195, 7.31591666, 7.21921886, 6.92275286,\n",
       "       6.51447091, 6.26214694, 6.19146889, 6.24209109, 6.29277286,\n",
       "       6.44371457, 6.75961601, 7.24571237, 7.24665316, 6.7605556 ,\n",
       "       6.09881847, 5.69770118, 5.72085213, 6.21974194, 6.65096368,\n",
       "       7.3442342 , 7.36021226, 7.01359173, 6.20369796, 5.79648822,\n",
       "       5.77244828, 5.99395424, 5.89462177, 6.14054837, 6.14720499,\n",
       "       5.62368709, 5.59487708, 5.4451662 , 5.37978786, 4.37878204,\n",
       "       4.37481177, 5.22653563, 5.24193814, 4.62637219, 4.65372381,\n",
       "       6.40339276, 6.55957645, 6.8312257 ])"
      ]
     },
     "execution_count": 87,
     "metadata": {},
     "output_type": "execute_result"
    }
   ],
   "source": [
    "# Integrating F(x) and getting array values of integration for all values of x\n",
    "from scipy.integrate import quad\n",
    "import math\n",
    "from math import log\n",
    "x_values = df[\"x\"].to_numpy()\n",
    "I1 = np.empty(len(x_values))\n",
    "def f(u,x):\n",
    "    return (1/u - 0.5*np.log(1/u) - 1)*np.exp(-x/u)\n",
    "for i, x in enumerate(x_values):\n",
    "    I1[i] = quad(f, 0, 1, args=(x))[0]\n",
    "I1"
   ]
  },
  {
   "cell_type": "code",
   "execution_count": 88,
   "metadata": {},
   "outputs": [],
   "source": [
    "for ind, row in df.iterrows():\n",
    "    df.loc[ind,\"dPos_sq\"] = row[\"dPos\"]*row[\"dPos\"]\n",
    "for ind, row in df.iterrows():\n",
    "    df.loc[ind,\"I2\"] = row[\"sigx\"]*row[\"sigy\"]*row[\"sig_div\"]*row[\"dPos_sq\"]"
   ]
  },
  {
   "cell_type": "code",
   "execution_count": 91,
   "metadata": {},
   "outputs": [],
   "source": [
    "df[\"I1\"] = pd.Series(I1) # Convert numpy array into dataframe column\n"
   ]
  },
  {
   "cell_type": "code",
   "execution_count": 92,
   "metadata": {},
   "outputs": [
    {
     "data": {
      "text/plain": [
       "6.029794589910142"
      ]
     },
     "execution_count": 92,
     "metadata": {},
     "output_type": "execute_result"
    }
   ],
   "source": [
    "df[\"I1\"].mean()"
   ]
  },
  {
   "cell_type": "code",
   "execution_count": 94,
   "metadata": {},
   "outputs": [
    {
     "data": {
      "text/plain": [
       "273992862908617.53"
      ]
     },
     "execution_count": 94,
     "metadata": {},
     "output_type": "execute_result"
    }
   ],
   "source": [
    "for ind, row in df.iterrows():\n",
    "    df.loc[ind,\"I\"] = (row[\"I1\"] / row[\"I2\"])*row[\"s\"]\n",
    "df[\"I\"].sum()"
   ]
  },
  {
   "cell_type": "code",
   "execution_count": 96,
   "metadata": {},
   "outputs": [
    {
     "name": "stdout",
     "output_type": "stream",
     "text": [
      "273992862908617.53\n"
     ]
    }
   ],
   "source": [
    "I_sum = df[\"I\"].sum()\n",
    "print(I_sum)"
   ]
  },
  {
   "cell_type": "code",
   "execution_count": 97,
   "metadata": {},
   "outputs": [
    {
     "data": {
      "text/plain": [
       "16.841333086732252"
      ]
     },
     "execution_count": 97,
     "metadata": {},
     "output_type": "execute_result"
    }
   ],
   "source": [
    "pos_trate = A*I_sum\n",
    "pos_tlifetime = 1/(pos_trate)\n",
    "pos_lifetime = pos_tlifetime/3600\n",
    "pos_lifetime"
   ]
  },
  {
   "cell_type": "markdown",
   "metadata": {},
   "source": [
    "### Touscheck Rate for delta_negative"
   ]
  },
  {
   "cell_type": "code",
   "execution_count": 98,
   "metadata": {},
   "outputs": [],
   "source": [
    "gamma_L = 293.54\n",
    "for ind, row in df.iterrows():\n",
    "    df.loc[ind,\"denom\"] = row[\"sig_div\"]*gamma_L\n",
    "    \n",
    "for ind, row in df.iterrows():\n",
    "    df.loc[ind,\"y\"] = (row[\"dNeg\"]/row[\"denom\"])*(row[\"dNeg\"]/row[\"denom\"])"
   ]
  },
  {
   "cell_type": "code",
   "execution_count": 99,
   "metadata": {},
   "outputs": [
    {
     "data": {
      "text/plain": [
       "array([6.97664855, 6.84472186, 5.08918235, 5.03748068, 5.65595842,\n",
       "       5.63356969, 4.77741704, 4.78827495, 5.79429211, 5.85988258,\n",
       "       6.01004061, 6.03893088, 6.5636328 , 6.55696397, 6.31053842,\n",
       "       6.19055064, 5.96892444, 5.99209212, 6.40718184, 7.05699044,\n",
       "       7.40322815, 7.31744275, 6.66984272, 6.41880478, 5.90215921,\n",
       "       5.91079394, 6.31262233, 6.91202324, 7.39830327, 7.39623438,\n",
       "       7.30311468, 7.20641293, 6.9099567 , 6.25312746, 6.01749191,\n",
       "       5.97276605, 6.02356742, 6.0741926 , 6.26411149, 6.64919656,\n",
       "       7.13407429, 7.13699493, 7.04389297, 6.94727978, 6.65103735,\n",
       "       6.30583549, 6.05375992, 6.06324153, 6.11136356, 6.16449489,\n",
       "       6.31505373, 6.71211847, 7.19815288, 7.28938456, 6.75616899,\n",
       "       6.27464332, 5.87354979, 5.87871347, 6.37978214, 6.63049103,\n",
       "       7.32472753, 7.37898438, 6.99699928, 6.48684389, 6.06759274,\n",
       "       6.03026939, 6.22503023, 6.41541572, 6.66154083, 6.73627189,\n",
       "       6.56039839, 5.17535083, 5.29503159, 9.75109564, 9.56337698,\n",
       "       5.32142873, 4.86081266, 3.86308983, 3.42744927, 3.42815662,\n",
       "       3.44284254, 3.44284254, 3.70371668, 3.70300238, 3.91198103,\n",
       "       4.9095186 , 5.27150906, 9.51142566, 9.74898003, 5.29298747,\n",
       "       5.21821733, 6.60365972, 6.73607538, 6.66225978, 6.41565708,\n",
       "       6.28680209, 6.06495847, 6.10924401, 6.54382702, 7.00969696,\n",
       "       7.35839654, 7.31821099, 6.63004109, 6.4420476 , 5.94325235,\n",
       "       5.90771396, 6.30931927, 6.86221355, 7.33969096, 7.33969096,\n",
       "       7.26342465, 7.14989214, 6.86175118, 6.33160218, 6.0794898 ,\n",
       "       6.13903732, 6.18964638, 6.24042124, 6.39003146, 6.75084551,\n",
       "       7.23693088, 7.23471631, 7.14004677, 7.04330587, 6.74869994,\n",
       "       6.39454143, 6.14244209, 6.13468251, 6.18529037, 6.23595835,\n",
       "       6.35903862, 7.00180891, 7.48820767, 7.4603135 , 6.9734948 ,\n",
       "       6.53273176, 6.13068702, 6.1373374 , 6.63902342, 6.92619512,\n",
       "       7.61991725, 7.66601329, 7.31959597, 6.7495498 , 6.27203022,\n",
       "       6.25050536, 6.47247307, 6.60420927, 6.84409276, 6.79481001,\n",
       "       6.26959901, 6.24067416, 6.11880356, 6.08728444, 5.01644675,\n",
       "       5.04048548, 5.89416148, 5.94868111, 5.32863626, 5.3221076 ,\n",
       "       7.08003941, 7.2704638 , 7.54260659])"
      ]
     },
     "execution_count": 99,
     "metadata": {},
     "output_type": "execute_result"
    }
   ],
   "source": [
    "from scipy.integrate import quad\n",
    "import math\n",
    "from math import log\n",
    "y_values = df[\"y\"].to_numpy()\n",
    "I1y = np.empty(len(y_values))\n",
    "def f(u,y):\n",
    "    return (1/u - 0.5*np.log(1/u) - 1)*np.exp(-y/u)\n",
    "for i, y in enumerate(y_values):\n",
    "    I1y[i] = quad(f, 0, 1, args=(y))[0]\n",
    "I1y"
   ]
  },
  {
   "cell_type": "code",
   "execution_count": 100,
   "metadata": {},
   "outputs": [],
   "source": [
    "for ind, row in df.iterrows():\n",
    "    df.loc[ind,\"dNeg_sq\"] = row[\"dNeg\"]*row[\"dNeg\"]\n",
    "for ind, row in df.iterrows():\n",
    "    df.loc[ind,\"I2y\"] = row[\"sigx\"]*row[\"sigy\"]*row[\"sig_div\"]*row[\"dNeg_sq\"]"
   ]
  },
  {
   "cell_type": "code",
   "execution_count": 101,
   "metadata": {},
   "outputs": [],
   "source": [
    "df[\"I1y\"] = pd.Series(I1y) # Convert numpy array into dataframe column"
   ]
  },
  {
   "cell_type": "code",
   "execution_count": 105,
   "metadata": {},
   "outputs": [],
   "source": [
    "for ind, row in df.iterrows():\n",
    "    df.loc[ind,\"Iy\"] = (row[\"I1y\"]/ row[\"I2y\"])*row[\"s\"] # total integration = numerator divide by denominator"
   ]
  },
  {
   "cell_type": "code",
   "execution_count": 106,
   "metadata": {},
   "outputs": [
    {
     "name": "stdout",
     "output_type": "stream",
     "text": [
      "421692337440306.8\n"
     ]
    }
   ],
   "source": [
    "Iy_sum = df[\"Iy\"].sum()\n",
    "print(Iy_sum)"
   ]
  },
  {
   "cell_type": "code",
   "execution_count": 107,
   "metadata": {},
   "outputs": [
    {
     "data": {
      "text/plain": [
       "10.942586947728433"
      ]
     },
     "execution_count": 107,
     "metadata": {},
     "output_type": "execute_result"
    }
   ],
   "source": [
    "neg_trate = A*Iy_sum\n",
    "neg_tlifetime = 1/(neg_trate)\n",
    "neg_lifetime = neg_tlifetime/3600\n",
    "neg_lifetime"
   ]
  },
  {
   "cell_type": "code",
   "execution_count": 108,
   "metadata": {},
   "outputs": [
    {
     "data": {
      "text/plain": [
       "0.07538189540716071"
      ]
     },
     "execution_count": 108,
     "metadata": {},
     "output_type": "execute_result"
    }
   ],
   "source": [
    "t_rate = (1/(2*pos_lifetime))+(1/(2*neg_lifetime))\n",
    "t_rate"
   ]
  },
  {
   "cell_type": "code",
   "execution_count": 109,
   "metadata": {},
   "outputs": [
    {
     "data": {
      "text/plain": [
       "13.265784769654486"
      ]
     },
     "execution_count": 109,
     "metadata": {},
     "output_type": "execute_result"
    }
   ],
   "source": [
    "tlifetime = 1/t_rate\n",
    "tlifetime"
   ]
  },
  {
   "cell_type": "code",
   "execution_count": null,
   "metadata": {},
   "outputs": [],
   "source": []
  }
 ],
 "metadata": {
  "kernelspec": {
   "display_name": "Python 3",
   "language": "python",
   "name": "python3"
  },
  "language_info": {
   "codemirror_mode": {
    "name": "ipython",
    "version": 3
   },
   "file_extension": ".py",
   "mimetype": "text/x-python",
   "name": "python",
   "nbconvert_exporter": "python",
   "pygments_lexer": "ipython3",
   "version": "3.8.3"
  }
 },
 "nbformat": 4,
 "nbformat_minor": 4
}
