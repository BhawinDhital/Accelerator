{
 "cells": [
  {
   "cell_type": "code",
   "execution_count": 180,
   "metadata": {},
   "outputs": [],
   "source": [
    "import pandas as pd\n",
    "import numpy as np"
   ]
  },
  {
   "cell_type": "code",
   "execution_count": 181,
   "metadata": {},
   "outputs": [
    {
     "data": {
      "text/plain": [
       "1956.9471624266143"
      ]
     },
     "execution_count": 181,
     "metadata": {},
     "output_type": "execute_result"
    }
   ],
   "source": [
    "r_e = 2.817e-15\n",
    "c = 3e8\n",
    "n = 6.9e10\n",
    "e = 1.6e-19\n",
    "q=n*e\n",
    "E_e = 1000\n",
    "mc2 = 0.511\n",
    "gamma = E_e/mc2\n",
    "pi = 3.1416\n",
    "C = 171.7\n",
    "sigma_s = 0.025\n",
    "gamma"
   ]
  },
  {
   "cell_type": "code",
   "execution_count": 182,
   "metadata": {},
   "outputs": [
    {
     "data": {
      "text/plain": [
       "2.0316811945623695e-22"
      ]
     },
     "execution_count": 182,
     "metadata": {},
     "output_type": "execute_result"
    }
   ],
   "source": [
    "A = r_e*r_e*c*q/(8*pi*e*gamma*gamma*gamma*sigma_s*C)\n",
    "A"
   ]
  },
  {
   "cell_type": "code",
   "execution_count": 183,
   "metadata": {},
   "outputs": [
    {
     "data": {
      "text/html": [
       "<div>\n",
       "<style scoped>\n",
       "    .dataframe tbody tr th:only-of-type {\n",
       "        vertical-align: middle;\n",
       "    }\n",
       "\n",
       "    .dataframe tbody tr th {\n",
       "        vertical-align: top;\n",
       "    }\n",
       "\n",
       "    .dataframe thead th {\n",
       "        text-align: right;\n",
       "    }\n",
       "</style>\n",
       "<table border=\"1\" class=\"dataframe\">\n",
       "  <thead>\n",
       "    <tr style=\"text-align: right;\">\n",
       "      <th></th>\n",
       "      <th>s</th>\n",
       "    </tr>\n",
       "  </thead>\n",
       "  <tbody>\n",
       "    <tr>\n",
       "      <th>0</th>\n",
       "      <td>1.40</td>\n",
       "    </tr>\n",
       "    <tr>\n",
       "      <th>1</th>\n",
       "      <td>0.25</td>\n",
       "    </tr>\n",
       "    <tr>\n",
       "      <th>2</th>\n",
       "      <td>2.90</td>\n",
       "    </tr>\n",
       "    <tr>\n",
       "      <th>3</th>\n",
       "      <td>0.25</td>\n",
       "    </tr>\n",
       "    <tr>\n",
       "      <th>4</th>\n",
       "      <td>2.90</td>\n",
       "    </tr>\n",
       "    <tr>\n",
       "      <th>...</th>\n",
       "      <td>...</td>\n",
       "    </tr>\n",
       "    <tr>\n",
       "      <th>166</th>\n",
       "      <td>2.90</td>\n",
       "    </tr>\n",
       "    <tr>\n",
       "      <th>167</th>\n",
       "      <td>0.25</td>\n",
       "    </tr>\n",
       "    <tr>\n",
       "      <th>168</th>\n",
       "      <td>2.90</td>\n",
       "    </tr>\n",
       "    <tr>\n",
       "      <th>169</th>\n",
       "      <td>0.25</td>\n",
       "    </tr>\n",
       "    <tr>\n",
       "      <th>170</th>\n",
       "      <td>1.40</td>\n",
       "    </tr>\n",
       "  </tbody>\n",
       "</table>\n",
       "<p>171 rows × 1 columns</p>\n",
       "</div>"
      ],
      "text/plain": [
       "        s\n",
       "0    1.40\n",
       "1    0.25\n",
       "2    2.90\n",
       "3    0.25\n",
       "4    2.90\n",
       "..    ...\n",
       "166  2.90\n",
       "167  0.25\n",
       "168  2.90\n",
       "169  0.25\n",
       "170  1.40\n",
       "\n",
       "[171 rows x 1 columns]"
      ]
     },
     "execution_count": 183,
     "metadata": {},
     "output_type": "execute_result"
    }
   ],
   "source": [
    "df_ = pd.read_csv(\"tp0.txt\",delim_whitespace=True)\n",
    "s = df_['s']\n",
    "df_ = (s - np.roll(s, 1))[1:]# second row - first row, 1: removes the first row at the end\n",
    "df_.reset_index(drop = True, inplace=True)\n",
    "df_\n",
    "df0 = pd.DataFrame(df_) #Converting into dataframe\n",
    "df0"
   ]
  },
  {
   "cell_type": "code",
   "execution_count": 184,
   "metadata": {},
   "outputs": [
    {
     "data": {
      "text/html": [
       "<div>\n",
       "<style scoped>\n",
       "    .dataframe tbody tr th:only-of-type {\n",
       "        vertical-align: middle;\n",
       "    }\n",
       "\n",
       "    .dataframe tbody tr th {\n",
       "        vertical-align: top;\n",
       "    }\n",
       "\n",
       "    .dataframe thead th {\n",
       "        text-align: right;\n",
       "    }\n",
       "</style>\n",
       "<table border=\"1\" class=\"dataframe\">\n",
       "  <thead>\n",
       "    <tr style=\"text-align: right;\">\n",
       "      <th></th>\n",
       "      <th>bx</th>\n",
       "      <th>ax</th>\n",
       "      <th>by</th>\n",
       "      <th>ay</th>\n",
       "      <th>sigx1</th>\n",
       "      <th>sigy</th>\n",
       "      <th>gx</th>\n",
       "    </tr>\n",
       "  </thead>\n",
       "  <tbody>\n",
       "    <tr>\n",
       "      <th>0</th>\n",
       "      <td>16.78427</td>\n",
       "      <td>-8.400001e-02</td>\n",
       "      <td>16.78427</td>\n",
       "      <td>-8.400000e-02</td>\n",
       "      <td>0.000044</td>\n",
       "      <td>0.001477</td>\n",
       "      <td>0.060000</td>\n",
       "    </tr>\n",
       "    <tr>\n",
       "      <th>1</th>\n",
       "      <td>16.93174</td>\n",
       "      <td>-5.070762e-01</td>\n",
       "      <td>16.72870</td>\n",
       "      <td>3.058086e-01</td>\n",
       "      <td>0.000044</td>\n",
       "      <td>0.001475</td>\n",
       "      <td>0.074247</td>\n",
       "    </tr>\n",
       "    <tr>\n",
       "      <th>2</th>\n",
       "      <td>20.49720</td>\n",
       "      <td>-7.223918e-01</td>\n",
       "      <td>15.50476</td>\n",
       "      <td>1.162419e-01</td>\n",
       "      <td>0.000053</td>\n",
       "      <td>0.001420</td>\n",
       "      <td>0.074247</td>\n",
       "    </tr>\n",
       "    <tr>\n",
       "      <th>3</th>\n",
       "      <td>20.32700</td>\n",
       "      <td>1.397243e+00</td>\n",
       "      <td>15.85748</td>\n",
       "      <td>-1.539391e+00</td>\n",
       "      <td>0.000053</td>\n",
       "      <td>0.001436</td>\n",
       "      <td>0.145240</td>\n",
       "    </tr>\n",
       "    <tr>\n",
       "      <th>4</th>\n",
       "      <td>13.44446</td>\n",
       "      <td>9.760481e-01</td>\n",
       "      <td>26.57308</td>\n",
       "      <td>-2.155642e+00</td>\n",
       "      <td>0.000035</td>\n",
       "      <td>0.001859</td>\n",
       "      <td>0.145240</td>\n",
       "    </tr>\n",
       "    <tr>\n",
       "      <th>...</th>\n",
       "      <td>...</td>\n",
       "      <td>...</td>\n",
       "      <td>...</td>\n",
       "      <td>...</td>\n",
       "      <td>...</td>\n",
       "      <td>...</td>\n",
       "      <td>...</td>\n",
       "    </tr>\n",
       "    <tr>\n",
       "      <th>166</th>\n",
       "      <td>20.32700</td>\n",
       "      <td>-1.397243e+00</td>\n",
       "      <td>15.85748</td>\n",
       "      <td>1.539391e+00</td>\n",
       "      <td>0.000053</td>\n",
       "      <td>0.001436</td>\n",
       "      <td>0.145240</td>\n",
       "    </tr>\n",
       "    <tr>\n",
       "      <th>167</th>\n",
       "      <td>20.49720</td>\n",
       "      <td>7.223918e-01</td>\n",
       "      <td>15.50476</td>\n",
       "      <td>-1.162419e-01</td>\n",
       "      <td>0.000053</td>\n",
       "      <td>0.001420</td>\n",
       "      <td>0.074247</td>\n",
       "    </tr>\n",
       "    <tr>\n",
       "      <th>168</th>\n",
       "      <td>16.93174</td>\n",
       "      <td>5.070762e-01</td>\n",
       "      <td>16.72870</td>\n",
       "      <td>-3.058086e-01</td>\n",
       "      <td>0.000044</td>\n",
       "      <td>0.001475</td>\n",
       "      <td>0.074247</td>\n",
       "    </tr>\n",
       "    <tr>\n",
       "      <th>169</th>\n",
       "      <td>16.78427</td>\n",
       "      <td>8.400001e-02</td>\n",
       "      <td>16.78427</td>\n",
       "      <td>8.400000e-02</td>\n",
       "      <td>0.000044</td>\n",
       "      <td>0.001477</td>\n",
       "      <td>0.060000</td>\n",
       "    </tr>\n",
       "    <tr>\n",
       "      <th>170</th>\n",
       "      <td>16.66667</td>\n",
       "      <td>4.457004e-09</td>\n",
       "      <td>16.66667</td>\n",
       "      <td>-4.011893e-09</td>\n",
       "      <td>0.000043</td>\n",
       "      <td>0.001472</td>\n",
       "      <td>0.060000</td>\n",
       "    </tr>\n",
       "  </tbody>\n",
       "</table>\n",
       "<p>171 rows × 7 columns</p>\n",
       "</div>"
      ],
      "text/plain": [
       "           bx            ax        by            ay     sigx1      sigy  \\\n",
       "0    16.78427 -8.400001e-02  16.78427 -8.400000e-02  0.000044  0.001477   \n",
       "1    16.93174 -5.070762e-01  16.72870  3.058086e-01  0.000044  0.001475   \n",
       "2    20.49720 -7.223918e-01  15.50476  1.162419e-01  0.000053  0.001420   \n",
       "3    20.32700  1.397243e+00  15.85748 -1.539391e+00  0.000053  0.001436   \n",
       "4    13.44446  9.760481e-01  26.57308 -2.155642e+00  0.000035  0.001859   \n",
       "..        ...           ...       ...           ...       ...       ...   \n",
       "166  20.32700 -1.397243e+00  15.85748  1.539391e+00  0.000053  0.001436   \n",
       "167  20.49720  7.223918e-01  15.50476 -1.162419e-01  0.000053  0.001420   \n",
       "168  16.93174  5.070762e-01  16.72870 -3.058086e-01  0.000044  0.001475   \n",
       "169  16.78427  8.400001e-02  16.78427  8.400000e-02  0.000044  0.001477   \n",
       "170  16.66667  4.457004e-09  16.66667 -4.011893e-09  0.000043  0.001472   \n",
       "\n",
       "           gx  \n",
       "0    0.060000  \n",
       "1    0.074247  \n",
       "2    0.074247  \n",
       "3    0.145240  \n",
       "4    0.145240  \n",
       "..        ...  \n",
       "166  0.145240  \n",
       "167  0.074247  \n",
       "168  0.074247  \n",
       "169  0.060000  \n",
       "170  0.060000  \n",
       "\n",
       "[171 rows x 7 columns]"
      ]
     },
     "execution_count": 184,
     "metadata": {},
     "output_type": "execute_result"
    }
   ],
   "source": [
    "# Load all twiss parameters and momentum aperture\n",
    "df1=pd.read_csv(\"tp3.txt\",sep=\"\\s+\")\n",
    "df2=pd.read_csv(\"tp4.txt\",sep=\"\\s+\")\n",
    "df3=pd.read_csv(\"ma3.txt\",sep=\"\\s+\")\n",
    "df1"
   ]
  },
  {
   "cell_type": "code",
   "execution_count": 185,
   "metadata": {},
   "outputs": [],
   "source": [
    "# Merge df1 df2 and df3\n",
    "df4 = df0.reset_index().merge(df1.reset_index(), left_index=True, right_index=True, how='left')\n",
    "df5 = df2.reset_index().merge(df3.reset_index(), left_index=True, right_index=True, how='left')\n",
    "df = df4.reset_index().merge(df5.reset_index(), left_index=True, right_index=True, how='left')"
   ]
  },
  {
   "cell_type": "code",
   "execution_count": 186,
   "metadata": {},
   "outputs": [
    {
     "data": {
      "text/html": [
       "<div>\n",
       "<style scoped>\n",
       "    .dataframe tbody tr th:only-of-type {\n",
       "        vertical-align: middle;\n",
       "    }\n",
       "\n",
       "    .dataframe tbody tr th {\n",
       "        vertical-align: top;\n",
       "    }\n",
       "\n",
       "    .dataframe thead th {\n",
       "        text-align: right;\n",
       "    }\n",
       "</style>\n",
       "<table border=\"1\" class=\"dataframe\">\n",
       "  <thead>\n",
       "    <tr style=\"text-align: right;\">\n",
       "      <th></th>\n",
       "      <th>index_x</th>\n",
       "      <th>index_x_x</th>\n",
       "      <th>s</th>\n",
       "      <th>index_y_x</th>\n",
       "      <th>bx</th>\n",
       "      <th>ax</th>\n",
       "      <th>by</th>\n",
       "      <th>ay</th>\n",
       "      <th>sigx1</th>\n",
       "      <th>sigy</th>\n",
       "      <th>gx</th>\n",
       "      <th>index_y</th>\n",
       "      <th>index_x_y</th>\n",
       "      <th>etx</th>\n",
       "      <th>etxp</th>\n",
       "      <th>index_y_y</th>\n",
       "      <th>dPos</th>\n",
       "      <th>dNeg</th>\n",
       "    </tr>\n",
       "  </thead>\n",
       "  <tbody>\n",
       "    <tr>\n",
       "      <th>0</th>\n",
       "      <td>0</td>\n",
       "      <td>0</td>\n",
       "      <td>1.40</td>\n",
       "      <td>0</td>\n",
       "      <td>16.78427</td>\n",
       "      <td>-8.400001e-02</td>\n",
       "      <td>16.78427</td>\n",
       "      <td>-8.400000e-02</td>\n",
       "      <td>0.000044</td>\n",
       "      <td>0.001477</td>\n",
       "      <td>0.060000</td>\n",
       "      <td>0</td>\n",
       "      <td>0</td>\n",
       "      <td>-2.798520e-10</td>\n",
       "      <td>2.527927e-11</td>\n",
       "      <td>0</td>\n",
       "      <td>0.001646</td>\n",
       "      <td>-0.001059</td>\n",
       "    </tr>\n",
       "    <tr>\n",
       "      <th>1</th>\n",
       "      <td>1</td>\n",
       "      <td>1</td>\n",
       "      <td>0.25</td>\n",
       "      <td>1</td>\n",
       "      <td>16.93174</td>\n",
       "      <td>-5.070762e-01</td>\n",
       "      <td>16.72870</td>\n",
       "      <td>3.058086e-01</td>\n",
       "      <td>0.000044</td>\n",
       "      <td>0.001475</td>\n",
       "      <td>0.074247</td>\n",
       "      <td>1</td>\n",
       "      <td>1</td>\n",
       "      <td>-2.743711e-10</td>\n",
       "      <td>1.858996e-11</td>\n",
       "      <td>1</td>\n",
       "      <td>0.001644</td>\n",
       "      <td>-0.001058</td>\n",
       "    </tr>\n",
       "    <tr>\n",
       "      <th>2</th>\n",
       "      <td>2</td>\n",
       "      <td>2</td>\n",
       "      <td>2.90</td>\n",
       "      <td>2</td>\n",
       "      <td>20.49720</td>\n",
       "      <td>-7.223918e-01</td>\n",
       "      <td>15.50476</td>\n",
       "      <td>1.162419e-01</td>\n",
       "      <td>0.000053</td>\n",
       "      <td>0.001420</td>\n",
       "      <td>0.074247</td>\n",
       "      <td>2</td>\n",
       "      <td>2</td>\n",
       "      <td>-2.204602e-10</td>\n",
       "      <td>1.858996e-11</td>\n",
       "      <td>2</td>\n",
       "      <td>0.001644</td>\n",
       "      <td>-0.001058</td>\n",
       "    </tr>\n",
       "    <tr>\n",
       "      <th>3</th>\n",
       "      <td>3</td>\n",
       "      <td>3</td>\n",
       "      <td>0.25</td>\n",
       "      <td>3</td>\n",
       "      <td>20.32700</td>\n",
       "      <td>1.397243e+00</td>\n",
       "      <td>15.85748</td>\n",
       "      <td>-1.539391e+00</td>\n",
       "      <td>0.000053</td>\n",
       "      <td>0.001436</td>\n",
       "      <td>0.145240</td>\n",
       "      <td>3</td>\n",
       "      <td>3</td>\n",
       "      <td>-2.129654e-10</td>\n",
       "      <td>4.123848e-11</td>\n",
       "      <td>3</td>\n",
       "      <td>0.001642</td>\n",
       "      <td>-0.001055</td>\n",
       "    </tr>\n",
       "    <tr>\n",
       "      <th>4</th>\n",
       "      <td>4</td>\n",
       "      <td>4</td>\n",
       "      <td>2.90</td>\n",
       "      <td>4</td>\n",
       "      <td>13.44446</td>\n",
       "      <td>9.760481e-01</td>\n",
       "      <td>26.57308</td>\n",
       "      <td>-2.155642e+00</td>\n",
       "      <td>0.000035</td>\n",
       "      <td>0.001859</td>\n",
       "      <td>0.145240</td>\n",
       "      <td>4</td>\n",
       "      <td>4</td>\n",
       "      <td>-9.337378e-11</td>\n",
       "      <td>4.123848e-11</td>\n",
       "      <td>4</td>\n",
       "      <td>0.001642</td>\n",
       "      <td>-0.001055</td>\n",
       "    </tr>\n",
       "    <tr>\n",
       "      <th>...</th>\n",
       "      <td>...</td>\n",
       "      <td>...</td>\n",
       "      <td>...</td>\n",
       "      <td>...</td>\n",
       "      <td>...</td>\n",
       "      <td>...</td>\n",
       "      <td>...</td>\n",
       "      <td>...</td>\n",
       "      <td>...</td>\n",
       "      <td>...</td>\n",
       "      <td>...</td>\n",
       "      <td>...</td>\n",
       "      <td>...</td>\n",
       "      <td>...</td>\n",
       "      <td>...</td>\n",
       "      <td>...</td>\n",
       "      <td>...</td>\n",
       "      <td>...</td>\n",
       "    </tr>\n",
       "    <tr>\n",
       "      <th>166</th>\n",
       "      <td>166</td>\n",
       "      <td>166</td>\n",
       "      <td>2.90</td>\n",
       "      <td>166</td>\n",
       "      <td>20.32700</td>\n",
       "      <td>-1.397243e+00</td>\n",
       "      <td>15.85748</td>\n",
       "      <td>1.539391e+00</td>\n",
       "      <td>0.000053</td>\n",
       "      <td>0.001436</td>\n",
       "      <td>0.145240</td>\n",
       "      <td>166</td>\n",
       "      <td>166</td>\n",
       "      <td>-2.129761e-10</td>\n",
       "      <td>-4.123938e-11</td>\n",
       "      <td>166</td>\n",
       "      <td>0.001635</td>\n",
       "      <td>-0.001088</td>\n",
       "    </tr>\n",
       "    <tr>\n",
       "      <th>167</th>\n",
       "      <td>167</td>\n",
       "      <td>167</td>\n",
       "      <td>0.25</td>\n",
       "      <td>167</td>\n",
       "      <td>20.49720</td>\n",
       "      <td>7.223918e-01</td>\n",
       "      <td>15.50476</td>\n",
       "      <td>-1.162419e-01</td>\n",
       "      <td>0.000053</td>\n",
       "      <td>0.001420</td>\n",
       "      <td>0.074247</td>\n",
       "      <td>167</td>\n",
       "      <td>167</td>\n",
       "      <td>-2.204710e-10</td>\n",
       "      <td>-1.858974e-11</td>\n",
       "      <td>167</td>\n",
       "      <td>0.001633</td>\n",
       "      <td>-0.001088</td>\n",
       "    </tr>\n",
       "    <tr>\n",
       "      <th>168</th>\n",
       "      <td>168</td>\n",
       "      <td>168</td>\n",
       "      <td>2.90</td>\n",
       "      <td>168</td>\n",
       "      <td>16.93174</td>\n",
       "      <td>5.070762e-01</td>\n",
       "      <td>16.72870</td>\n",
       "      <td>-3.058086e-01</td>\n",
       "      <td>0.000044</td>\n",
       "      <td>0.001475</td>\n",
       "      <td>0.074247</td>\n",
       "      <td>168</td>\n",
       "      <td>168</td>\n",
       "      <td>-2.743813e-10</td>\n",
       "      <td>-1.858974e-11</td>\n",
       "      <td>168</td>\n",
       "      <td>0.001633</td>\n",
       "      <td>-0.001088</td>\n",
       "    </tr>\n",
       "    <tr>\n",
       "      <th>169</th>\n",
       "      <td>169</td>\n",
       "      <td>169</td>\n",
       "      <td>0.25</td>\n",
       "      <td>169</td>\n",
       "      <td>16.78427</td>\n",
       "      <td>8.400001e-02</td>\n",
       "      <td>16.78427</td>\n",
       "      <td>8.400000e-02</td>\n",
       "      <td>0.000044</td>\n",
       "      <td>0.001477</td>\n",
       "      <td>0.060000</td>\n",
       "      <td>169</td>\n",
       "      <td>169</td>\n",
       "      <td>-2.798621e-10</td>\n",
       "      <td>-2.527928e-11</td>\n",
       "      <td>169</td>\n",
       "      <td>0.001630</td>\n",
       "      <td>-0.001087</td>\n",
       "    </tr>\n",
       "    <tr>\n",
       "      <th>170</th>\n",
       "      <td>170</td>\n",
       "      <td>170</td>\n",
       "      <td>1.40</td>\n",
       "      <td>170</td>\n",
       "      <td>16.66667</td>\n",
       "      <td>4.457004e-09</td>\n",
       "      <td>16.66667</td>\n",
       "      <td>-4.011893e-09</td>\n",
       "      <td>0.000043</td>\n",
       "      <td>0.001472</td>\n",
       "      <td>0.060000</td>\n",
       "      <td>170</td>\n",
       "      <td>170</td>\n",
       "      <td>-3.152531e-10</td>\n",
       "      <td>-2.527928e-11</td>\n",
       "      <td>170</td>\n",
       "      <td>0.001630</td>\n",
       "      <td>-0.001087</td>\n",
       "    </tr>\n",
       "  </tbody>\n",
       "</table>\n",
       "<p>171 rows × 18 columns</p>\n",
       "</div>"
      ],
      "text/plain": [
       "     index_x  index_x_x     s  index_y_x        bx            ax        by  \\\n",
       "0          0          0  1.40          0  16.78427 -8.400001e-02  16.78427   \n",
       "1          1          1  0.25          1  16.93174 -5.070762e-01  16.72870   \n",
       "2          2          2  2.90          2  20.49720 -7.223918e-01  15.50476   \n",
       "3          3          3  0.25          3  20.32700  1.397243e+00  15.85748   \n",
       "4          4          4  2.90          4  13.44446  9.760481e-01  26.57308   \n",
       "..       ...        ...   ...        ...       ...           ...       ...   \n",
       "166      166        166  2.90        166  20.32700 -1.397243e+00  15.85748   \n",
       "167      167        167  0.25        167  20.49720  7.223918e-01  15.50476   \n",
       "168      168        168  2.90        168  16.93174  5.070762e-01  16.72870   \n",
       "169      169        169  0.25        169  16.78427  8.400001e-02  16.78427   \n",
       "170      170        170  1.40        170  16.66667  4.457004e-09  16.66667   \n",
       "\n",
       "               ay     sigx1      sigy        gx  index_y  index_x_y  \\\n",
       "0   -8.400000e-02  0.000044  0.001477  0.060000        0          0   \n",
       "1    3.058086e-01  0.000044  0.001475  0.074247        1          1   \n",
       "2    1.162419e-01  0.000053  0.001420  0.074247        2          2   \n",
       "3   -1.539391e+00  0.000053  0.001436  0.145240        3          3   \n",
       "4   -2.155642e+00  0.000035  0.001859  0.145240        4          4   \n",
       "..            ...       ...       ...       ...      ...        ...   \n",
       "166  1.539391e+00  0.000053  0.001436  0.145240      166        166   \n",
       "167 -1.162419e-01  0.000053  0.001420  0.074247      167        167   \n",
       "168 -3.058086e-01  0.000044  0.001475  0.074247      168        168   \n",
       "169  8.400000e-02  0.000044  0.001477  0.060000      169        169   \n",
       "170 -4.011893e-09  0.000043  0.001472  0.060000      170        170   \n",
       "\n",
       "              etx          etxp  index_y_y      dPos      dNeg  \n",
       "0   -2.798520e-10  2.527927e-11          0  0.001646 -0.001059  \n",
       "1   -2.743711e-10  1.858996e-11          1  0.001644 -0.001058  \n",
       "2   -2.204602e-10  1.858996e-11          2  0.001644 -0.001058  \n",
       "3   -2.129654e-10  4.123848e-11          3  0.001642 -0.001055  \n",
       "4   -9.337378e-11  4.123848e-11          4  0.001642 -0.001055  \n",
       "..            ...           ...        ...       ...       ...  \n",
       "166 -2.129761e-10 -4.123938e-11        166  0.001635 -0.001088  \n",
       "167 -2.204710e-10 -1.858974e-11        167  0.001633 -0.001088  \n",
       "168 -2.743813e-10 -1.858974e-11        168  0.001633 -0.001088  \n",
       "169 -2.798621e-10 -2.527928e-11        169  0.001630 -0.001087  \n",
       "170 -3.152531e-10 -2.527928e-11        170  0.001630 -0.001087  \n",
       "\n",
       "[171 rows x 18 columns]"
      ]
     },
     "execution_count": 186,
     "metadata": {},
     "output_type": "execute_result"
    }
   ],
   "source": [
    "df"
   ]
  },
  {
   "cell_type": "code",
   "execution_count": 187,
   "metadata": {},
   "outputs": [],
   "source": [
    "sig_d = 4.54E-04\n",
    "sig_d_sq = sig_d*sig_d"
   ]
  },
  {
   "cell_type": "code",
   "execution_count": 188,
   "metadata": {},
   "outputs": [],
   "source": [
    "for ind, row in df.iterrows():\n",
    "    df.loc[ind,\"etx_del_sq\"] = sig_d_sq * (row[\"etx\"]*row[\"etx\"])\n",
    "for ind, row in df.iterrows():\n",
    "    df.loc[ind,\"sigx\"] = np.sqrt(row[\"sigx1\"] + row[\"etx_del_sq\"])"
   ]
  },
  {
   "cell_type": "code",
   "execution_count": 189,
   "metadata": {},
   "outputs": [],
   "source": [
    "for ind, row in df.iterrows():\n",
    "    df.loc[ind,\"H(s)\"] = (row[\"gx\"]*row[\"etx\"]*row[\"etx\"]) + (2* row[\"ax\"]*row[\"etx\"]*row[\"etxp\"]) + (row[\"bx\"]*row[\"etxp\"]*row[\"etxp\"])"
   ]
  },
  {
   "cell_type": "code",
   "execution_count": 190,
   "metadata": {},
   "outputs": [],
   "source": [
    "#ex = 2.73e-06\n",
    "ex = 2.60e-06\n",
    "sig_d = 4.54E-04\n",
    "sig_d_sq = sig_d*sig_d\n",
    "ratio = sig_d_sq / ex\n",
    "for ind, row in df.iterrows():\n",
    "    df.loc[ind,\"sig_div\"] = (ex /row[\"sigx\"])*np.sqrt(1 + (row[\"H(s)\"]*ratio))"
   ]
  },
  {
   "cell_type": "code",
   "execution_count": 191,
   "metadata": {},
   "outputs": [],
   "source": [
    "gamma_H = 1956.94\n",
    "for ind, row in df.iterrows():\n",
    "    df.loc[ind,\"denom\"] = row[\"sig_div\"]*gamma_H\n",
    "    \n",
    "for ind, row in df.iterrows():\n",
    "    df.loc[ind,\"x\"] = (row[\"dPos\"]/row[\"denom\"])*(row[\"dPos\"]/row[\"denom\"])"
   ]
  },
  {
   "cell_type": "code",
   "execution_count": 192,
   "metadata": {},
   "outputs": [
    {
     "data": {
      "text/plain": [
       "array([10.21968272, 10.21312445, 10.02210796, 10.03258416, 10.44587868,\n",
       "       10.4372744 ,  9.91613691,  9.93003679, 10.8324958 , 10.87793401,\n",
       "       10.77982684, 10.7933087 , 11.42457864, 11.43252859, 11.18486666,\n",
       "       11.08645223, 10.8681071 , 10.87887049, 11.32782122, 11.86489658,\n",
       "       12.33649645, 12.31533227, 11.70418545, 11.31751366, 10.85116323,\n",
       "       10.84221657, 11.27685678, 11.65968811, 12.2105527 , 12.22997934,\n",
       "       12.14038019, 12.02381172, 11.69390565, 11.33785425, 11.09552746,\n",
       "       11.08249942, 11.1328013 , 11.19546567, 11.33785423, 11.72124687,\n",
       "       12.25781063, 12.27283574, 12.17365936, 12.03852106, 11.69903122,\n",
       "       11.21862301, 10.97629865, 10.96257154, 11.01288141, 11.0624205 ,\n",
       "       11.20480755, 11.44980699, 11.995418  , 12.0313359 , 11.48567712,\n",
       "       11.10162146, 10.67316666, 10.66027967, 11.12662144, 11.60042966,\n",
       "       12.21405662, 12.29494628, 11.82334716, 11.32281486, 10.87386308,\n",
       "       10.85177827, 11.07851428, 11.19274112, 11.44039953, 11.38540956,\n",
       "       10.62977975, 10.60613012, 10.94594252, 10.94074029, 10.54837461,\n",
       "       10.56865597, 11.20102279, 11.19062857, 10.54458862, 10.55331546,\n",
       "       12.08760313, 12.05959956, 10.52522121, 10.55212224, 12.08650385,\n",
       "       12.08894262, 10.55456072, 10.5543517 , 12.08873357, 12.08765933,\n",
       "       10.55327759, 10.54580534, 11.19184537, 11.19339607, 10.56102977,\n",
       "       10.5430854 , 10.93545084, 10.94241205, 10.60249358, 10.641285  ,\n",
       "       11.38583068, 11.43296667, 11.18531325, 11.04561995, 10.82727571,\n",
       "       10.83787698, 11.28682731, 11.73067519, 12.20227255, 12.18525864,\n",
       "       11.57411523, 11.09869173, 10.64170236, 10.62943658, 11.05788936,\n",
       "       11.41744307, 11.96309992, 12.00421122, 11.90503583, 11.79803772,\n",
       "       11.45855319, 11.24494094, 11.00261603, 10.98980823, 11.04007497,\n",
       "       11.11439433, 11.25678198, 11.77871235, 12.32439065, 12.33100087,\n",
       "       12.23182153, 12.12482734, 11.78533621, 11.4691476 , 11.22687704,\n",
       "       11.22490297, 11.27520403, 11.32565115, 11.46804106, 11.72349937,\n",
       "       12.26916407, 12.2659997 , 11.72033507, 11.23631626, 10.82099119,\n",
       "       10.8283376 , 11.29468707, 11.69308988, 12.31129077, 12.32334326,\n",
       "       11.85174363, 11.27945241, 10.83050238, 10.85677704, 11.07512192,\n",
       "       11.20170414, 11.44936638, 11.43673458, 10.80546397, 10.79142559,\n",
       "       10.88955491, 10.83576222,  9.94488302,  9.92959127, 10.45070561,\n",
       "       10.44875406, 10.04184942, 10.03571499, 10.22676848, 10.23941344,\n",
       "       10.24644317])"
      ]
     },
     "execution_count": 192,
     "metadata": {},
     "output_type": "execute_result"
    }
   ],
   "source": [
    "# Integrating F(x) and getting array values of integration for all values of x\n",
    "from scipy.integrate import quad\n",
    "import math\n",
    "from math import log\n",
    "x_values = df[\"x\"].to_numpy()\n",
    "I1 = np.empty(len(x_values))\n",
    "def f(u,x):\n",
    "    return (1/u - 0.5*np.log(1/u) - 1)*np.exp(-x/u)\n",
    "for i, x in enumerate(x_values):\n",
    "    I1[i] = quad(f, 0, 1, args=(x))[0]\n",
    "I1"
   ]
  },
  {
   "cell_type": "code",
   "execution_count": 193,
   "metadata": {},
   "outputs": [],
   "source": [
    "for ind, row in df.iterrows():\n",
    "    df.loc[ind,\"dPos_sq\"] = row[\"dPos\"]*row[\"dPos\"]\n",
    "for ind, row in df.iterrows():\n",
    "    df.loc[ind,\"I2\"] = row[\"sigx\"]*row[\"sigy\"]*row[\"sig_div\"]*row[\"dPos_sq\"]"
   ]
  },
  {
   "cell_type": "code",
   "execution_count": 194,
   "metadata": {},
   "outputs": [],
   "source": [
    "df[\"I1\"] = pd.Series(I1) # Convert numpy array into dataframe column"
   ]
  },
  {
   "cell_type": "code",
   "execution_count": 195,
   "metadata": {},
   "outputs": [
    {
     "data": {
      "text/plain": [
       "11.227587950057789"
      ]
     },
     "execution_count": 195,
     "metadata": {},
     "output_type": "execute_result"
    }
   ],
   "source": [
    "df[\"I1\"].mean()"
   ]
  },
  {
   "cell_type": "code",
   "execution_count": 196,
   "metadata": {},
   "outputs": [
    {
     "data": {
      "text/plain": [
       "2.903446539802487e+17"
      ]
     },
     "execution_count": 196,
     "metadata": {},
     "output_type": "execute_result"
    }
   ],
   "source": [
    "for ind, row in df.iterrows():\n",
    "    df.loc[ind,\"I\"] = (row[\"I1\"] / row[\"I2\"])*row[\"s\"]\n",
    "df[\"I\"].sum()"
   ]
  },
  {
   "cell_type": "code",
   "execution_count": 197,
   "metadata": {},
   "outputs": [
    {
     "data": {
      "text/plain": [
       "4.688484832360541"
      ]
     },
     "execution_count": 197,
     "metadata": {},
     "output_type": "execute_result"
    }
   ],
   "source": [
    "pos_trate = A*I_sum\n",
    "pos_tlifetime = 1/(pos_trate)\n",
    "pos_lifetime = pos_tlifetime/3600\n",
    "pos_lifetime"
   ]
  },
  {
   "cell_type": "markdown",
   "metadata": {},
   "source": [
    "### Touscheck Rate for delta_negative"
   ]
  },
  {
   "cell_type": "code",
   "execution_count": 198,
   "metadata": {},
   "outputs": [],
   "source": [
    "gamma_H = 1956.94\n",
    "for ind, row in df.iterrows():\n",
    "    df.loc[ind,\"denom\"] = row[\"sig_div\"]*gamma_H\n",
    "    \n",
    "for ind, row in df.iterrows():\n",
    "    df.loc[ind,\"y\"] = (row[\"dNeg\"]/row[\"denom\"])*(row[\"dNeg\"]/row[\"denom\"])"
   ]
  },
  {
   "cell_type": "code",
   "execution_count": 199,
   "metadata": {},
   "outputs": [
    {
     "data": {
      "text/plain": [
       "array([11.10243519, 11.09382599, 10.902749  , 10.91798433, 11.33132796,\n",
       "       11.31862373, 10.79742226, 10.81560899, 11.71816114, 11.76567909,\n",
       "       11.66714803, 11.68820708, 12.31951184, 12.31944277, 12.07173728,\n",
       "       11.78644469, 11.56824241, 11.58859296, 12.03756599, 12.45400489,\n",
       "       12.92561291, 12.93271865, 12.32155992, 11.88537778, 11.41900855,\n",
       "       11.41711988, 11.83922945, 12.23088637, 12.77656028, 12.76861355,\n",
       "       12.66943582, 12.56243612, 12.22293975, 11.89151332, 11.64917802,\n",
       "       11.66287741, 11.71408937, 11.78039596, 11.92278951, 12.30013767,\n",
       "       12.84581255, 12.84902435, 12.74984467, 12.64284656, 12.30334943,\n",
       "       11.98833032, 11.74599391, 11.74599573, 11.79628172, 11.84084169,\n",
       "       11.98831405, 12.2437004 , 12.78937449, 12.82428533, 12.27861074,\n",
       "       11.89800941, 11.46952838, 11.46730352, 11.93367397, 12.32868803,\n",
       "       12.93984686, 12.99704765, 12.52543889, 12.08939293, 11.6371343 ,\n",
       "       11.61667085, 11.83502777, 12.06442677, 12.31209997, 12.26349003,\n",
       "       11.50669878, 11.48204094, 11.82209341, 11.73919302, 11.34680018,\n",
       "       11.38162686, 12.01403329, 12.0710673 , 11.42498398, 11.36640117,\n",
       "       12.90085305, 12.95858167, 11.42412644, 11.33003952, 12.86448919,\n",
       "       12.87388037, 11.33943012, 11.42393005, 12.95838527, 12.88258847,\n",
       "       11.34013801, 11.40341016, 12.04948715, 12.07084479, 11.4384365 ,\n",
       "       11.42507264, 11.81746727, 11.82197443, 11.48192764, 11.50728789,\n",
       "       12.26407917, 12.31161455, 12.06394136, 11.87509536, 11.65673799,\n",
       "       11.68623203, 12.13520708, 12.52426109, 12.99586984, 12.9736172 ,\n",
       "       12.36232532, 11.92571276, 11.45931901, 11.44415548, 11.88028184,\n",
       "       12.27525115, 12.82092569, 12.82439151, 12.72521366, 12.61821383,\n",
       "       12.27871692, 11.99478644, 11.75244996, 11.75515673, 11.80546085,\n",
       "       11.85509921, 11.99749324, 12.33962004, 12.83214411, 12.83066646,\n",
       "       12.73131108, 12.62448876, 12.28499179, 11.95883749, 11.71650141,\n",
       "       11.71711133, 11.74978561, 11.79942384, 11.95944563, 12.25941355,\n",
       "       12.80508787, 12.76583585, 12.2201346 , 11.85216806, 11.42368811,\n",
       "       11.43694678, 11.90330932, 12.32510208, 12.93626086, 12.96101135,\n",
       "       12.48940296, 11.97704299, 11.52807129, 11.60853126, 11.8268881 ,\n",
       "       12.01539215, 12.26306492, 12.26421422, 11.63291092, 11.61223143,\n",
       "       11.71038012, 11.66001802, 10.75747007, 10.74169814, 11.26450176,\n",
       "       11.26942157, 10.85608211, 10.84699166, 11.03806761, 11.04867311,\n",
       "       11.05570358])"
      ]
     },
     "execution_count": 199,
     "metadata": {},
     "output_type": "execute_result"
    }
   ],
   "source": [
    "from scipy.integrate import quad\n",
    "import math\n",
    "from math import log\n",
    "y_values = df[\"y\"].to_numpy()\n",
    "I1y = np.empty(len(y_values))\n",
    "def f(u,y):\n",
    "    return (1/u - 0.5*np.log(1/u) - 1)*np.exp(-y/u)\n",
    "for i, y in enumerate(y_values):\n",
    "    I1y[i] = quad(f, 0, 1, args=(y))[0]\n",
    "I1y"
   ]
  },
  {
   "cell_type": "code",
   "execution_count": 200,
   "metadata": {},
   "outputs": [],
   "source": [
    "for ind, row in df.iterrows():\n",
    "    df.loc[ind,\"dNeg_sq\"] = row[\"dNeg\"]*row[\"dNeg\"]\n",
    "for ind, row in df.iterrows():\n",
    "    df.loc[ind,\"I2y\"] = row[\"sigx\"]*row[\"sigy\"]*row[\"sig_div\"]*row[\"dNeg_sq\"]"
   ]
  },
  {
   "cell_type": "code",
   "execution_count": 201,
   "metadata": {},
   "outputs": [],
   "source": [
    "df[\"I1y\"] = pd.Series(I1y) # Convert numpy array into dataframe column"
   ]
  },
  {
   "cell_type": "code",
   "execution_count": 203,
   "metadata": {},
   "outputs": [],
   "source": [
    "for ind, row in df.iterrows():\n",
    "    df.loc[ind,\"Iy\"] = (row[\"I1y\"]*row[\"s\"])/ row[\"I2y\"] # total integration = numerator divide by denominator"
   ]
  },
  {
   "cell_type": "code",
   "execution_count": 204,
   "metadata": {},
   "outputs": [
    {
     "name": "stdout",
     "output_type": "stream",
     "text": [
      "6.593843180185373e+17\n"
     ]
    }
   ],
   "source": [
    "Iy_sum = df[\"Iy\"].sum()\n",
    "print(Iy_sum)"
   ]
  },
  {
   "cell_type": "code",
   "execution_count": 205,
   "metadata": {},
   "outputs": [
    {
     "data": {
      "text/plain": [
       "2.073496584296391"
      ]
     },
     "execution_count": 205,
     "metadata": {},
     "output_type": "execute_result"
    }
   ],
   "source": [
    "neg_trate = A*Iy_sum\n",
    "neg_tlifetime = 1/(neg_trate)\n",
    "neg_lifetime = neg_tlifetime/3600\n",
    "neg_lifetime"
   ]
  },
  {
   "cell_type": "markdown",
   "metadata": {},
   "source": [
    "Elegant user forum suggests the following way to calculate the Touschek lifetime using deltaNegative and deltaPositive [touschek](https://www3.aps.anl.gov/forums/elegant/viewtopic.php?f=14&t=424&p=1672&hilit=Momentum+aperture+and+touschek+scattering#p1680)\n",
    "\n",
    "Using this formalism to calculate the Touschek lifetime, we calculate negative lifetime and positive lifetime for the negative and positive momentum aperture values respectively. $ \\frac{1}{\\tau} = \\frac{1}{2* lifetime_{neg}} + \\frac{1}{2*lifetime_{pos}}$"
   ]
  },
  {
   "cell_type": "code",
   "execution_count": 206,
   "metadata": {},
   "outputs": [
    {
     "data": {
      "text/plain": [
       "0.3477828303699238"
      ]
     },
     "execution_count": 206,
     "metadata": {},
     "output_type": "execute_result"
    }
   ],
   "source": [
    "t_rate = (1/(2*pos_lifetime))+(1/(2*neg_lifetime))\n",
    "t_rate"
   ]
  },
  {
   "cell_type": "code",
   "execution_count": 207,
   "metadata": {},
   "outputs": [
    {
     "data": {
      "text/plain": [
       "2.875357587194103"
      ]
     },
     "execution_count": 207,
     "metadata": {},
     "output_type": "execute_result"
    }
   ],
   "source": [
    "tlifetime = 1/t_rate\n",
    "tlifetime"
   ]
  },
  {
   "cell_type": "code",
   "execution_count": null,
   "metadata": {},
   "outputs": [],
   "source": []
  }
 ],
 "metadata": {
  "kernelspec": {
   "display_name": "Python 3",
   "language": "python",
   "name": "python3"
  },
  "language_info": {
   "codemirror_mode": {
    "name": "ipython",
    "version": 3
   },
   "file_extension": ".py",
   "mimetype": "text/x-python",
   "name": "python",
   "nbconvert_exporter": "python",
   "pygments_lexer": "ipython3",
   "version": "3.8.3"
  }
 },
 "nbformat": 4,
 "nbformat_minor": 4
}
